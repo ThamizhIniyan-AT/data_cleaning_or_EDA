{
 "cells": [
  {
   "cell_type": "markdown",
   "id": "fb2bbaeb",
   "metadata": {},
   "source": [
    "# import necessary libraries"
   ]
  },
  {
   "cell_type": "code",
   "execution_count": 1,
   "id": "94a700f0",
   "metadata": {},
   "outputs": [],
   "source": [
    "import pandas as pd"
   ]
  },
  {
   "cell_type": "code",
   "execution_count": 2,
   "id": "cf5466fa",
   "metadata": {},
   "outputs": [],
   "source": [
    "df1 = pd.read_csv(\"C:/Users/Thamizhiniyan/Downloads/college_1.csv\")"
   ]
  },
  {
   "cell_type": "code",
   "execution_count": 3,
   "id": "d0e7d4e1",
   "metadata": {},
   "outputs": [],
   "source": [
    "df2 = pd.read_csv(\"C:/Users/Thamizhiniyan/Downloads/college_2.csv\")"
   ]
  },
  {
   "cell_type": "code",
   "execution_count": 4,
   "id": "6d2b510b",
   "metadata": {},
   "outputs": [
    {
     "data": {
      "text/html": [
       "<div>\n",
       "<style scoped>\n",
       "    .dataframe tbody tr th:only-of-type {\n",
       "        vertical-align: middle;\n",
       "    }\n",
       "\n",
       "    .dataframe tbody tr th {\n",
       "        vertical-align: top;\n",
       "    }\n",
       "\n",
       "    .dataframe thead th {\n",
       "        text-align: right;\n",
       "    }\n",
       "</style>\n",
       "<table border=\"1\" class=\"dataframe\">\n",
       "  <thead>\n",
       "    <tr style=\"text-align: right;\">\n",
       "      <th></th>\n",
       "      <th>Name</th>\n",
       "      <th>python</th>\n",
       "      <th>mysql</th>\n",
       "      <th>Previous Geekions</th>\n",
       "      <th>CodeKata Score</th>\n",
       "      <th>Department</th>\n",
       "      <th>Rising</th>\n",
       "    </tr>\n",
       "  </thead>\n",
       "  <tbody>\n",
       "    <tr>\n",
       "      <th>0</th>\n",
       "      <td>A.Dharani</td>\n",
       "      <td>82.0</td>\n",
       "      <td>20.0</td>\n",
       "      <td>24500</td>\n",
       "      <td>24500</td>\n",
       "      <td>Computer Science and Engineering</td>\n",
       "      <td>0</td>\n",
       "    </tr>\n",
       "    <tr>\n",
       "      <th>1</th>\n",
       "      <td>V.JEEVITHA</td>\n",
       "      <td>82.0</td>\n",
       "      <td>20.0</td>\n",
       "      <td>21740</td>\n",
       "      <td>21740</td>\n",
       "      <td>Computer Science and Engineering</td>\n",
       "      <td>0</td>\n",
       "    </tr>\n",
       "    <tr>\n",
       "      <th>2</th>\n",
       "      <td>HEMAVATHI.R</td>\n",
       "      <td>100.0</td>\n",
       "      <td>100.0</td>\n",
       "      <td>19680</td>\n",
       "      <td>19680</td>\n",
       "      <td>Computer Science and Engineering</td>\n",
       "      <td>0</td>\n",
       "    </tr>\n",
       "  </tbody>\n",
       "</table>\n",
       "</div>"
      ],
      "text/plain": [
       "          Name  python  mysql  Previous Geekions  CodeKata Score  \\\n",
       "0    A.Dharani    82.0   20.0              24500           24500   \n",
       "1  V.JEEVITHA     82.0   20.0              21740           21740   \n",
       "2  HEMAVATHI.R   100.0  100.0              19680           19680   \n",
       "\n",
       "                         Department  Rising  \n",
       "0  Computer Science and Engineering       0  \n",
       "1  Computer Science and Engineering       0  \n",
       "2  Computer Science and Engineering       0  "
      ]
     },
     "execution_count": 4,
     "metadata": {},
     "output_type": "execute_result"
    }
   ],
   "source": [
    "df1.head(3)"
   ]
  },
  {
   "cell_type": "code",
   "execution_count": 5,
   "id": "ed1cede3",
   "metadata": {},
   "outputs": [
    {
     "name": "stdout",
     "output_type": "stream",
     "text": [
      "<class 'pandas.core.frame.DataFrame'>\n",
      "RangeIndex: 84 entries, 0 to 83\n",
      "Data columns (total 7 columns):\n",
      " #   Column             Non-Null Count  Dtype  \n",
      "---  ------             --------------  -----  \n",
      " 0   Name               84 non-null     object \n",
      " 1   python             84 non-null     float64\n",
      " 2   mysql              84 non-null     float64\n",
      " 3   Previous Geekions  84 non-null     int64  \n",
      " 4   CodeKata Score     84 non-null     int64  \n",
      " 5   Department         84 non-null     object \n",
      " 6   Rising             84 non-null     int64  \n",
      "dtypes: float64(2), int64(3), object(2)\n",
      "memory usage: 4.7+ KB\n"
     ]
    }
   ],
   "source": [
    "df1.info()"
   ]
  },
  {
   "cell_type": "code",
   "execution_count": 6,
   "id": "6cc934e0",
   "metadata": {},
   "outputs": [
    {
     "name": "stdout",
     "output_type": "stream",
     "text": [
      "<class 'pandas.core.frame.DataFrame'>\n",
      "RangeIndex: 35 entries, 0 to 34\n",
      "Data columns (total 9 columns):\n",
      " #   Column                  Non-Null Count  Dtype \n",
      "---  ------                  --------------  ----- \n",
      " 0   Name                    35 non-null     object\n",
      " 1   python                  35 non-null     int64 \n",
      " 2   python_en               35 non-null     int64 \n",
      " 3   mysql                   35 non-null     int64 \n",
      " 4   computational_thinking  35 non-null     int64 \n",
      " 5   Previous Geekions       35 non-null     int64 \n",
      " 6   CodeKata Score          35 non-null     int64 \n",
      " 7   Department              35 non-null     object\n",
      " 8   Rising                  35 non-null     int64 \n",
      "dtypes: int64(7), object(2)\n",
      "memory usage: 2.6+ KB\n"
     ]
    }
   ],
   "source": [
    "df2.info()"
   ]
  },
  {
   "cell_type": "code",
   "execution_count": 7,
   "id": "845e7c26",
   "metadata": {},
   "outputs": [
    {
     "name": "stdout",
     "output_type": "stream",
     "text": [
      "df1 and df2 (84, 7) (35, 9)\n"
     ]
    }
   ],
   "source": [
    "print(\"df1 and df2\",df1.shape,df2.shape)"
   ]
  },
  {
   "cell_type": "code",
   "execution_count": 8,
   "id": "626bd4e0",
   "metadata": {},
   "outputs": [
    {
     "data": {
      "text/html": [
       "<div>\n",
       "<style scoped>\n",
       "    .dataframe tbody tr th:only-of-type {\n",
       "        vertical-align: middle;\n",
       "    }\n",
       "\n",
       "    .dataframe tbody tr th {\n",
       "        vertical-align: top;\n",
       "    }\n",
       "\n",
       "    .dataframe thead th {\n",
       "        text-align: right;\n",
       "    }\n",
       "</style>\n",
       "<table border=\"1\" class=\"dataframe\">\n",
       "  <thead>\n",
       "    <tr style=\"text-align: right;\">\n",
       "      <th></th>\n",
       "      <th>Name</th>\n",
       "      <th>python</th>\n",
       "      <th>python_en</th>\n",
       "      <th>mysql</th>\n",
       "      <th>computational_thinking</th>\n",
       "      <th>Previous Geekions</th>\n",
       "      <th>CodeKata Score</th>\n",
       "      <th>Department</th>\n",
       "      <th>Rising</th>\n",
       "    </tr>\n",
       "  </thead>\n",
       "  <tbody>\n",
       "    <tr>\n",
       "      <th>0</th>\n",
       "      <td>ASHOK KUMAR K</td>\n",
       "      <td>100</td>\n",
       "      <td>0</td>\n",
       "      <td>31</td>\n",
       "      <td>9</td>\n",
       "      <td>19400</td>\n",
       "      <td>19400</td>\n",
       "      <td>Electronics and Electrical Engineering</td>\n",
       "      <td>0</td>\n",
       "    </tr>\n",
       "    <tr>\n",
       "      <th>1</th>\n",
       "      <td>Chandru</td>\n",
       "      <td>0</td>\n",
       "      <td>20</td>\n",
       "      <td>0</td>\n",
       "      <td>0</td>\n",
       "      <td>14150</td>\n",
       "      <td>14490</td>\n",
       "      <td>Computer Science and Engineering</td>\n",
       "      <td>340</td>\n",
       "    </tr>\n",
       "    <tr>\n",
       "      <th>2</th>\n",
       "      <td>Ganesh Ramkumar R</td>\n",
       "      <td>-1</td>\n",
       "      <td>55</td>\n",
       "      <td>24</td>\n",
       "      <td>6</td>\n",
       "      <td>8790</td>\n",
       "      <td>10790</td>\n",
       "      <td>Computer Science and Engineering</td>\n",
       "      <td>2000</td>\n",
       "    </tr>\n",
       "  </tbody>\n",
       "</table>\n",
       "</div>"
      ],
      "text/plain": [
       "                Name  python  python_en  mysql  computational_thinking  \\\n",
       "0      ASHOK KUMAR K     100          0     31                       9   \n",
       "1            Chandru       0         20      0                       0   \n",
       "2  Ganesh Ramkumar R      -1         55     24                       6   \n",
       "\n",
       "   Previous Geekions  CodeKata Score                              Department  \\\n",
       "0              19400           19400  Electronics and Electrical Engineering   \n",
       "1              14150           14490        Computer Science and Engineering   \n",
       "2               8790           10790        Computer Science and Engineering   \n",
       "\n",
       "   Rising  \n",
       "0       0  \n",
       "1     340  \n",
       "2    2000  "
      ]
     },
     "execution_count": 8,
     "metadata": {},
     "output_type": "execute_result"
    }
   ],
   "source": [
    "df2.head(3)"
   ]
  },
  {
   "cell_type": "code",
   "execution_count": 9,
   "id": "9aca758f",
   "metadata": {},
   "outputs": [
    {
     "data": {
      "text/plain": [
       "Name                 84\n",
       "python               84\n",
       "mysql                84\n",
       "Previous Geekions    84\n",
       "CodeKata Score       84\n",
       "Department           84\n",
       "Rising               84\n",
       "dtype: int64"
      ]
     },
     "execution_count": 9,
     "metadata": {},
     "output_type": "execute_result"
    }
   ],
   "source": [
    "df1.count()"
   ]
  },
  {
   "cell_type": "code",
   "execution_count": 10,
   "id": "8ed663e6",
   "metadata": {},
   "outputs": [
    {
     "data": {
      "text/plain": [
       "Name                      35\n",
       "python                    35\n",
       "python_en                 35\n",
       "mysql                     35\n",
       "computational_thinking    35\n",
       "Previous Geekions         35\n",
       "CodeKata Score            35\n",
       "Department                35\n",
       "Rising                    35\n",
       "dtype: int64"
      ]
     },
     "execution_count": 10,
     "metadata": {},
     "output_type": "execute_result"
    }
   ],
   "source": [
    "df2.count()"
   ]
  },
  {
   "cell_type": "markdown",
   "id": "f24e7af6",
   "metadata": {},
   "source": [
    "# merging those two csv files (after getting as dataframes, get them as a single dataframe)"
   ]
  },
  {
   "cell_type": "code",
   "execution_count": 11,
   "id": "d8a051d2",
   "metadata": {},
   "outputs": [],
   "source": [
    "#merged_csv = pd.merge(df1,df2,on =[\"Name\",\"python\",\"mysql\",\"Previous Geekions\",\"CodeKata Score\",\"Department\",\"Rising\"],how=\"outer\")\n",
    "#OR\n",
    "merged_csv = pd.concat([df1,df2],axis=0,ignore_index = True)"
   ]
  },
  {
   "cell_type": "code",
   "execution_count": 12,
   "id": "e48aa101",
   "metadata": {},
   "outputs": [
    {
     "data": {
      "text/plain": [
       "Name                                               ASHOK KUMAR K\n",
       "python                                                     100.0\n",
       "mysql                                                       31.0\n",
       "Previous Geekions                                          19400\n",
       "CodeKata Score                                             19400\n",
       "Department                Electronics and Electrical Engineering\n",
       "Rising                                                         0\n",
       "python_en                                                    0.0\n",
       "computational_thinking                                       9.0\n",
       "Name: 84, dtype: object"
      ]
     },
     "execution_count": 12,
     "metadata": {},
     "output_type": "execute_result"
    }
   ],
   "source": [
    "merged_csv.iloc[84,:]"
   ]
  },
  {
   "cell_type": "code",
   "execution_count": 13,
   "id": "5478a960",
   "metadata": {},
   "outputs": [
    {
     "data": {
      "text/plain": [
       "Name                       0\n",
       "python                     0\n",
       "mysql                      0\n",
       "Previous Geekions          0\n",
       "CodeKata Score             0\n",
       "Department                 0\n",
       "Rising                     0\n",
       "python_en                 84\n",
       "computational_thinking    84\n",
       "dtype: int64"
      ]
     },
     "execution_count": 13,
     "metadata": {},
     "output_type": "execute_result"
    }
   ],
   "source": [
    "merged_csv.isnull().sum()"
   ]
  },
  {
   "cell_type": "code",
   "execution_count": 14,
   "id": "dc4f20e4",
   "metadata": {},
   "outputs": [
    {
     "data": {
      "text/plain": [
       "(119, 9)"
      ]
     },
     "execution_count": 14,
     "metadata": {},
     "output_type": "execute_result"
    }
   ],
   "source": [
    "merged_csv.shape"
   ]
  },
  {
   "cell_type": "code",
   "execution_count": 15,
   "id": "ab3c1ed7",
   "metadata": {},
   "outputs": [
    {
     "data": {
      "text/plain": [
       "Name                      119\n",
       "python                    119\n",
       "mysql                     119\n",
       "Previous Geekions         119\n",
       "CodeKata Score            119\n",
       "Department                119\n",
       "Rising                    119\n",
       "python_en                  35\n",
       "computational_thinking     35\n",
       "dtype: int64"
      ]
     },
     "execution_count": 15,
     "metadata": {},
     "output_type": "execute_result"
    }
   ],
   "source": [
    "merged_csv.count()"
   ]
  },
  {
   "cell_type": "code",
   "execution_count": 16,
   "id": "f6096f1c",
   "metadata": {},
   "outputs": [
    {
     "data": {
      "text/html": [
       "<div>\n",
       "<style scoped>\n",
       "    .dataframe tbody tr th:only-of-type {\n",
       "        vertical-align: middle;\n",
       "    }\n",
       "\n",
       "    .dataframe tbody tr th {\n",
       "        vertical-align: top;\n",
       "    }\n",
       "\n",
       "    .dataframe thead th {\n",
       "        text-align: right;\n",
       "    }\n",
       "</style>\n",
       "<table border=\"1\" class=\"dataframe\">\n",
       "  <thead>\n",
       "    <tr style=\"text-align: right;\">\n",
       "      <th></th>\n",
       "      <th>Name</th>\n",
       "      <th>python</th>\n",
       "      <th>mysql</th>\n",
       "      <th>Previous Geekions</th>\n",
       "      <th>CodeKata Score</th>\n",
       "      <th>Department</th>\n",
       "      <th>Rising</th>\n",
       "      <th>python_en</th>\n",
       "      <th>computational_thinking</th>\n",
       "    </tr>\n",
       "  </thead>\n",
       "  <tbody>\n",
       "    <tr>\n",
       "      <th>0</th>\n",
       "      <td>A.Dharani</td>\n",
       "      <td>82.0</td>\n",
       "      <td>20.0</td>\n",
       "      <td>24500</td>\n",
       "      <td>24500</td>\n",
       "      <td>Computer Science and Engineering</td>\n",
       "      <td>0</td>\n",
       "      <td>NaN</td>\n",
       "      <td>NaN</td>\n",
       "    </tr>\n",
       "    <tr>\n",
       "      <th>1</th>\n",
       "      <td>V.JEEVITHA</td>\n",
       "      <td>82.0</td>\n",
       "      <td>20.0</td>\n",
       "      <td>21740</td>\n",
       "      <td>21740</td>\n",
       "      <td>Computer Science and Engineering</td>\n",
       "      <td>0</td>\n",
       "      <td>NaN</td>\n",
       "      <td>NaN</td>\n",
       "    </tr>\n",
       "    <tr>\n",
       "      <th>2</th>\n",
       "      <td>HEMAVATHI.R</td>\n",
       "      <td>100.0</td>\n",
       "      <td>100.0</td>\n",
       "      <td>19680</td>\n",
       "      <td>19680</td>\n",
       "      <td>Computer Science and Engineering</td>\n",
       "      <td>0</td>\n",
       "      <td>NaN</td>\n",
       "      <td>NaN</td>\n",
       "    </tr>\n",
       "  </tbody>\n",
       "</table>\n",
       "</div>"
      ],
      "text/plain": [
       "          Name  python  mysql  Previous Geekions  CodeKata Score  \\\n",
       "0    A.Dharani    82.0   20.0              24500           24500   \n",
       "1  V.JEEVITHA     82.0   20.0              21740           21740   \n",
       "2  HEMAVATHI.R   100.0  100.0              19680           19680   \n",
       "\n",
       "                         Department  Rising  python_en  computational_thinking  \n",
       "0  Computer Science and Engineering       0        NaN                     NaN  \n",
       "1  Computer Science and Engineering       0        NaN                     NaN  \n",
       "2  Computer Science and Engineering       0        NaN                     NaN  "
      ]
     },
     "execution_count": 16,
     "metadata": {},
     "output_type": "execute_result"
    }
   ],
   "source": [
    "merged_csv.head(3)"
   ]
  },
  {
   "cell_type": "code",
   "execution_count": 17,
   "id": "18136cb9",
   "metadata": {},
   "outputs": [
    {
     "data": {
      "text/plain": [
       "Name                       object\n",
       "python                    float64\n",
       "mysql                     float64\n",
       "Previous Geekions           int64\n",
       "CodeKata Score              int64\n",
       "Department                 object\n",
       "Rising                      int64\n",
       "python_en                 float64\n",
       "computational_thinking    float64\n",
       "dtype: object"
      ]
     },
     "execution_count": 17,
     "metadata": {},
     "output_type": "execute_result"
    }
   ],
   "source": [
    "merged_csv.dtypes"
   ]
  },
  {
   "cell_type": "code",
   "execution_count": 18,
   "id": "d613596d",
   "metadata": {},
   "outputs": [],
   "source": [
    "merged_csv= merged_csv.astype({\"python\":int,\"mysql\":int})"
   ]
  },
  {
   "cell_type": "code",
   "execution_count": 19,
   "id": "25a7ecdd",
   "metadata": {},
   "outputs": [
    {
     "name": "stdout",
     "output_type": "stream",
     "text": [
      "<class 'pandas.core.frame.DataFrame'>\n",
      "RangeIndex: 119 entries, 0 to 118\n",
      "Data columns (total 9 columns):\n",
      " #   Column                  Non-Null Count  Dtype  \n",
      "---  ------                  --------------  -----  \n",
      " 0   Name                    119 non-null    object \n",
      " 1   python                  119 non-null    int32  \n",
      " 2   mysql                   119 non-null    int32  \n",
      " 3   Previous Geekions       119 non-null    int64  \n",
      " 4   CodeKata Score          119 non-null    int64  \n",
      " 5   Department              119 non-null    object \n",
      " 6   Rising                  119 non-null    int64  \n",
      " 7   python_en               35 non-null     float64\n",
      " 8   computational_thinking  35 non-null     float64\n",
      "dtypes: float64(2), int32(2), int64(3), object(2)\n",
      "memory usage: 7.6+ KB\n"
     ]
    }
   ],
   "source": [
    "merged_csv.info()"
   ]
  },
  {
   "cell_type": "markdown",
   "id": "3de54b56",
   "metadata": {},
   "source": [
    "##Take each csv file , split that csv file into multiple categories (example csv files are added in the repo)\n",
    "* consider if the codekata score exceeds 15000 points(present week) then make a csv on those observations as Exceeded expectations.csv\n",
    "* if 10000<codekata score<15000 (Reached_expectations.csv)\n",
    "* if 7000<codekata score<10000 (Needs_Improvement.csv)"
   ]
  },
  {
   "cell_type": "code",
   "execution_count": 20,
   "id": "1e83b26b",
   "metadata": {},
   "outputs": [],
   "source": [
    "Exceeded_expectations = merged_csv.loc[(merged_csv[\"CodeKata Score\"]>=15000)]"
   ]
  },
  {
   "cell_type": "code",
   "execution_count": 21,
   "id": "0c236c97",
   "metadata": {},
   "outputs": [],
   "source": [
    "import os    "
   ]
  },
  {
   "cell_type": "code",
   "execution_count": 22,
   "id": "ae654246",
   "metadata": {},
   "outputs": [],
   "source": [
    "os.makedirs('D:/DS/task_data_processing', exist_ok=True)  \n",
    "Exceeded_expectations.to_csv('D:/DS/task_data_processing/Exceeded_expectations_.csv')"
   ]
  },
  {
   "cell_type": "code",
   "execution_count": 23,
   "id": "f87e84aa",
   "metadata": {},
   "outputs": [],
   "source": [
    "Reached_expectations = merged_csv.loc[(merged_csv[\"CodeKata Score\"]>=10000) & (merged_csv[\"CodeKata Score\"]<15000)]"
   ]
  },
  {
   "cell_type": "code",
   "execution_count": 24,
   "id": "60304f72",
   "metadata": {},
   "outputs": [
    {
     "data": {
      "text/html": [
       "<div>\n",
       "<style scoped>\n",
       "    .dataframe tbody tr th:only-of-type {\n",
       "        vertical-align: middle;\n",
       "    }\n",
       "\n",
       "    .dataframe tbody tr th {\n",
       "        vertical-align: top;\n",
       "    }\n",
       "\n",
       "    .dataframe thead th {\n",
       "        text-align: right;\n",
       "    }\n",
       "</style>\n",
       "<table border=\"1\" class=\"dataframe\">\n",
       "  <thead>\n",
       "    <tr style=\"text-align: right;\">\n",
       "      <th></th>\n",
       "      <th>Name</th>\n",
       "      <th>python</th>\n",
       "      <th>mysql</th>\n",
       "      <th>Previous Geekions</th>\n",
       "      <th>CodeKata Score</th>\n",
       "      <th>Department</th>\n",
       "      <th>Rising</th>\n",
       "      <th>python_en</th>\n",
       "      <th>computational_thinking</th>\n",
       "    </tr>\n",
       "  </thead>\n",
       "  <tbody>\n",
       "    <tr>\n",
       "      <th>3</th>\n",
       "      <td>Mugunthan S</td>\n",
       "      <td>100</td>\n",
       "      <td>47</td>\n",
       "      <td>10610</td>\n",
       "      <td>10610</td>\n",
       "      <td>Computer Science and Engineering</td>\n",
       "      <td>0</td>\n",
       "      <td>NaN</td>\n",
       "      <td>NaN</td>\n",
       "    </tr>\n",
       "    <tr>\n",
       "      <th>85</th>\n",
       "      <td>Chandru</td>\n",
       "      <td>0</td>\n",
       "      <td>0</td>\n",
       "      <td>14150</td>\n",
       "      <td>14490</td>\n",
       "      <td>Computer Science and Engineering</td>\n",
       "      <td>340</td>\n",
       "      <td>20.0</td>\n",
       "      <td>0.0</td>\n",
       "    </tr>\n",
       "    <tr>\n",
       "      <th>86</th>\n",
       "      <td>Ganesh Ramkumar R</td>\n",
       "      <td>-1</td>\n",
       "      <td>24</td>\n",
       "      <td>8790</td>\n",
       "      <td>10790</td>\n",
       "      <td>Computer Science and Engineering</td>\n",
       "      <td>2000</td>\n",
       "      <td>55.0</td>\n",
       "      <td>6.0</td>\n",
       "    </tr>\n",
       "    <tr>\n",
       "      <th>87</th>\n",
       "      <td>Bodipudi Harini</td>\n",
       "      <td>-1</td>\n",
       "      <td>35</td>\n",
       "      <td>10040</td>\n",
       "      <td>10040</td>\n",
       "      <td>Electronics and Communication Engineering</td>\n",
       "      <td>0</td>\n",
       "      <td>0.0</td>\n",
       "      <td>-1.0</td>\n",
       "    </tr>\n",
       "  </tbody>\n",
       "</table>\n",
       "</div>"
      ],
      "text/plain": [
       "                 Name  python  mysql  Previous Geekions  CodeKata Score  \\\n",
       "3         Mugunthan S     100     47              10610           10610   \n",
       "85            Chandru       0      0              14150           14490   \n",
       "86  Ganesh Ramkumar R      -1     24               8790           10790   \n",
       "87    Bodipudi Harini      -1     35              10040           10040   \n",
       "\n",
       "                                   Department  Rising  python_en  \\\n",
       "3            Computer Science and Engineering       0        NaN   \n",
       "85           Computer Science and Engineering     340       20.0   \n",
       "86           Computer Science and Engineering    2000       55.0   \n",
       "87  Electronics and Communication Engineering       0        0.0   \n",
       "\n",
       "    computational_thinking  \n",
       "3                      NaN  \n",
       "85                     0.0  \n",
       "86                     6.0  \n",
       "87                    -1.0  "
      ]
     },
     "execution_count": 24,
     "metadata": {},
     "output_type": "execute_result"
    }
   ],
   "source": [
    "Reached_expectations "
   ]
  },
  {
   "cell_type": "code",
   "execution_count": 25,
   "id": "f721d9b5",
   "metadata": {},
   "outputs": [],
   "source": [
    "os.makedirs('D:/DS/task_data_processing', exist_ok=True)  \n",
    "Reached_expectations.to_csv('D:/DS/task_data_processing/Reached_expectations_.csv')"
   ]
  },
  {
   "cell_type": "code",
   "execution_count": 26,
   "id": "4302cef9",
   "metadata": {},
   "outputs": [],
   "source": [
    "Needs_Improvement = merged_csv.loc[(merged_csv[\"CodeKata Score\"]>=7000) & (merged_csv[\"CodeKata Score\"]<10000)]"
   ]
  },
  {
   "cell_type": "code",
   "execution_count": 27,
   "id": "1ef9d0ee",
   "metadata": {},
   "outputs": [
    {
     "data": {
      "text/html": [
       "<div>\n",
       "<style scoped>\n",
       "    .dataframe tbody tr th:only-of-type {\n",
       "        vertical-align: middle;\n",
       "    }\n",
       "\n",
       "    .dataframe tbody tr th {\n",
       "        vertical-align: top;\n",
       "    }\n",
       "\n",
       "    .dataframe thead th {\n",
       "        text-align: right;\n",
       "    }\n",
       "</style>\n",
       "<table border=\"1\" class=\"dataframe\">\n",
       "  <thead>\n",
       "    <tr style=\"text-align: right;\">\n",
       "      <th></th>\n",
       "      <th>Name</th>\n",
       "      <th>python</th>\n",
       "      <th>mysql</th>\n",
       "      <th>Previous Geekions</th>\n",
       "      <th>CodeKata Score</th>\n",
       "      <th>Department</th>\n",
       "      <th>Rising</th>\n",
       "      <th>python_en</th>\n",
       "      <th>computational_thinking</th>\n",
       "    </tr>\n",
       "  </thead>\n",
       "  <tbody>\n",
       "    <tr>\n",
       "      <th>4</th>\n",
       "      <td>Sathammai.S</td>\n",
       "      <td>100</td>\n",
       "      <td>8</td>\n",
       "      <td>8980</td>\n",
       "      <td>8980</td>\n",
       "      <td>Computer Science and Engineering</td>\n",
       "      <td>0</td>\n",
       "      <td>NaN</td>\n",
       "      <td>NaN</td>\n",
       "    </tr>\n",
       "    <tr>\n",
       "      <th>5</th>\n",
       "      <td>NIVEESHWAR S</td>\n",
       "      <td>100</td>\n",
       "      <td>0</td>\n",
       "      <td>8200</td>\n",
       "      <td>8200</td>\n",
       "      <td>Computer Science and Engineering</td>\n",
       "      <td>0</td>\n",
       "      <td>NaN</td>\n",
       "      <td>NaN</td>\n",
       "    </tr>\n",
       "    <tr>\n",
       "      <th>6</th>\n",
       "      <td>KALAIARASAN K</td>\n",
       "      <td>85</td>\n",
       "      <td>47</td>\n",
       "      <td>7750</td>\n",
       "      <td>7880</td>\n",
       "      <td>Electronics and Communication Engineering</td>\n",
       "      <td>130</td>\n",
       "      <td>NaN</td>\n",
       "      <td>NaN</td>\n",
       "    </tr>\n",
       "    <tr>\n",
       "      <th>7</th>\n",
       "      <td>MOHAMED ZUBAIR AHMED</td>\n",
       "      <td>82</td>\n",
       "      <td>4</td>\n",
       "      <td>7020</td>\n",
       "      <td>7020</td>\n",
       "      <td>Computer Science and Engineering</td>\n",
       "      <td>0</td>\n",
       "      <td>NaN</td>\n",
       "      <td>NaN</td>\n",
       "    </tr>\n",
       "    <tr>\n",
       "      <th>88</th>\n",
       "      <td>VIINU V P</td>\n",
       "      <td>-1</td>\n",
       "      <td>24</td>\n",
       "      <td>9150</td>\n",
       "      <td>9150</td>\n",
       "      <td>Electronics and Electrical Engineering</td>\n",
       "      <td>0</td>\n",
       "      <td>100.0</td>\n",
       "      <td>-1.0</td>\n",
       "    </tr>\n",
       "    <tr>\n",
       "      <th>89</th>\n",
       "      <td>Poojitha Y</td>\n",
       "      <td>0</td>\n",
       "      <td>35</td>\n",
       "      <td>7210</td>\n",
       "      <td>8970</td>\n",
       "      <td>Computer Science and Engineering</td>\n",
       "      <td>1760</td>\n",
       "      <td>78.0</td>\n",
       "      <td>0.0</td>\n",
       "    </tr>\n",
       "    <tr>\n",
       "      <th>90</th>\n",
       "      <td>Gowtham Chandrasekaran</td>\n",
       "      <td>-1</td>\n",
       "      <td>0</td>\n",
       "      <td>7250</td>\n",
       "      <td>8950</td>\n",
       "      <td>Computer Science and Engineering</td>\n",
       "      <td>1700</td>\n",
       "      <td>0.0</td>\n",
       "      <td>3.0</td>\n",
       "    </tr>\n",
       "    <tr>\n",
       "      <th>91</th>\n",
       "      <td>Gowtham R</td>\n",
       "      <td>-1</td>\n",
       "      <td>4</td>\n",
       "      <td>8650</td>\n",
       "      <td>8650</td>\n",
       "      <td>Electronics and Communication Engineering</td>\n",
       "      <td>0</td>\n",
       "      <td>60.0</td>\n",
       "      <td>6.0</td>\n",
       "    </tr>\n",
       "    <tr>\n",
       "      <th>92</th>\n",
       "      <td>shifak N</td>\n",
       "      <td>58</td>\n",
       "      <td>0</td>\n",
       "      <td>5180</td>\n",
       "      <td>8320</td>\n",
       "      <td>Electronics and Electrical Engineering</td>\n",
       "      <td>3140</td>\n",
       "      <td>0.0</td>\n",
       "      <td>0.0</td>\n",
       "    </tr>\n",
       "    <tr>\n",
       "      <th>93</th>\n",
       "      <td>Balaji</td>\n",
       "      <td>-1</td>\n",
       "      <td>20</td>\n",
       "      <td>6170</td>\n",
       "      <td>8160</td>\n",
       "      <td>Electronics and Electrical Engineering</td>\n",
       "      <td>1990</td>\n",
       "      <td>100.0</td>\n",
       "      <td>0.0</td>\n",
       "    </tr>\n",
       "    <tr>\n",
       "      <th>94</th>\n",
       "      <td>Rushitha</td>\n",
       "      <td>-1</td>\n",
       "      <td>62</td>\n",
       "      <td>7470</td>\n",
       "      <td>8090</td>\n",
       "      <td>Computer Science and Engineering</td>\n",
       "      <td>620</td>\n",
       "      <td>15.0</td>\n",
       "      <td>9.0</td>\n",
       "    </tr>\n",
       "    <tr>\n",
       "      <th>95</th>\n",
       "      <td>Balaraman Muthupandi</td>\n",
       "      <td>-1</td>\n",
       "      <td>0</td>\n",
       "      <td>7670</td>\n",
       "      <td>8050</td>\n",
       "      <td>Computer Science and Engineering</td>\n",
       "      <td>380</td>\n",
       "      <td>9.0</td>\n",
       "      <td>0.0</td>\n",
       "    </tr>\n",
       "    <tr>\n",
       "      <th>96</th>\n",
       "      <td>JPradhap</td>\n",
       "      <td>100</td>\n",
       "      <td>0</td>\n",
       "      <td>7340</td>\n",
       "      <td>8030</td>\n",
       "      <td>Electronics and Electrical Engineering</td>\n",
       "      <td>690</td>\n",
       "      <td>0.0</td>\n",
       "      <td>0.0</td>\n",
       "    </tr>\n",
       "    <tr>\n",
       "      <th>97</th>\n",
       "      <td>SRIRAMKUMAR B</td>\n",
       "      <td>-1</td>\n",
       "      <td>0</td>\n",
       "      <td>6400</td>\n",
       "      <td>7940</td>\n",
       "      <td>Computer Science and Engineering</td>\n",
       "      <td>1540</td>\n",
       "      <td>0.0</td>\n",
       "      <td>0.0</td>\n",
       "    </tr>\n",
       "    <tr>\n",
       "      <th>98</th>\n",
       "      <td>Praneetha</td>\n",
       "      <td>-1</td>\n",
       "      <td>100</td>\n",
       "      <td>7170</td>\n",
       "      <td>7730</td>\n",
       "      <td>Electronics and Communication Engineering</td>\n",
       "      <td>560</td>\n",
       "      <td>23.0</td>\n",
       "      <td>-1.0</td>\n",
       "    </tr>\n",
       "    <tr>\n",
       "      <th>99</th>\n",
       "      <td>Rahul Raj K</td>\n",
       "      <td>-1</td>\n",
       "      <td>0</td>\n",
       "      <td>6280</td>\n",
       "      <td>7640</td>\n",
       "      <td>Computer Science and Engineering</td>\n",
       "      <td>1360</td>\n",
       "      <td>0.0</td>\n",
       "      <td>0.0</td>\n",
       "    </tr>\n",
       "    <tr>\n",
       "      <th>100</th>\n",
       "      <td>Guhan S</td>\n",
       "      <td>-1</td>\n",
       "      <td>35</td>\n",
       "      <td>7310</td>\n",
       "      <td>7630</td>\n",
       "      <td>Electronics and Communication Engineering</td>\n",
       "      <td>320</td>\n",
       "      <td>72.0</td>\n",
       "      <td>39.0</td>\n",
       "    </tr>\n",
       "    <tr>\n",
       "      <th>101</th>\n",
       "      <td>Suryarajan S</td>\n",
       "      <td>-1</td>\n",
       "      <td>31</td>\n",
       "      <td>6710</td>\n",
       "      <td>7550</td>\n",
       "      <td>Computer Science and Engineering</td>\n",
       "      <td>840</td>\n",
       "      <td>63.0</td>\n",
       "      <td>0.0</td>\n",
       "    </tr>\n",
       "  </tbody>\n",
       "</table>\n",
       "</div>"
      ],
      "text/plain": [
       "                       Name  python  mysql  Previous Geekions  CodeKata Score  \\\n",
       "4               Sathammai.S     100      8               8980            8980   \n",
       "5              NIVEESHWAR S     100      0               8200            8200   \n",
       "6             KALAIARASAN K      85     47               7750            7880   \n",
       "7      MOHAMED ZUBAIR AHMED      82      4               7020            7020   \n",
       "88                VIINU V P      -1     24               9150            9150   \n",
       "89               Poojitha Y       0     35               7210            8970   \n",
       "90   Gowtham Chandrasekaran      -1      0               7250            8950   \n",
       "91                Gowtham R      -1      4               8650            8650   \n",
       "92                 shifak N      58      0               5180            8320   \n",
       "93                  Balaji       -1     20               6170            8160   \n",
       "94                 Rushitha      -1     62               7470            8090   \n",
       "95     Balaraman Muthupandi      -1      0               7670            8050   \n",
       "96                 JPradhap     100      0               7340            8030   \n",
       "97            SRIRAMKUMAR B      -1      0               6400            7940   \n",
       "98                Praneetha      -1    100               7170            7730   \n",
       "99              Rahul Raj K      -1      0               6280            7640   \n",
       "100                 Guhan S      -1     35               7310            7630   \n",
       "101            Suryarajan S      -1     31               6710            7550   \n",
       "\n",
       "                                    Department  Rising  python_en  \\\n",
       "4             Computer Science and Engineering       0        NaN   \n",
       "5             Computer Science and Engineering       0        NaN   \n",
       "6    Electronics and Communication Engineering     130        NaN   \n",
       "7             Computer Science and Engineering       0        NaN   \n",
       "88      Electronics and Electrical Engineering       0      100.0   \n",
       "89            Computer Science and Engineering    1760       78.0   \n",
       "90            Computer Science and Engineering    1700        0.0   \n",
       "91   Electronics and Communication Engineering       0       60.0   \n",
       "92      Electronics and Electrical Engineering    3140        0.0   \n",
       "93      Electronics and Electrical Engineering    1990      100.0   \n",
       "94            Computer Science and Engineering     620       15.0   \n",
       "95            Computer Science and Engineering     380        9.0   \n",
       "96      Electronics and Electrical Engineering     690        0.0   \n",
       "97            Computer Science and Engineering    1540        0.0   \n",
       "98   Electronics and Communication Engineering     560       23.0   \n",
       "99            Computer Science and Engineering    1360        0.0   \n",
       "100  Electronics and Communication Engineering     320       72.0   \n",
       "101           Computer Science and Engineering     840       63.0   \n",
       "\n",
       "     computational_thinking  \n",
       "4                       NaN  \n",
       "5                       NaN  \n",
       "6                       NaN  \n",
       "7                       NaN  \n",
       "88                     -1.0  \n",
       "89                      0.0  \n",
       "90                      3.0  \n",
       "91                      6.0  \n",
       "92                      0.0  \n",
       "93                      0.0  \n",
       "94                      9.0  \n",
       "95                      0.0  \n",
       "96                      0.0  \n",
       "97                      0.0  \n",
       "98                     -1.0  \n",
       "99                      0.0  \n",
       "100                    39.0  \n",
       "101                     0.0  "
      ]
     },
     "execution_count": 27,
     "metadata": {},
     "output_type": "execute_result"
    }
   ],
   "source": [
    "Needs_Improvement"
   ]
  },
  {
   "cell_type": "code",
   "execution_count": 28,
   "id": "f223d329",
   "metadata": {},
   "outputs": [],
   "source": [
    "os.makedirs('D:/DS/task_data_processing', exist_ok=True)  \n",
    "Needs_Improvement.to_csv('D:/DS/task_data_processing/Needs_Improvement_.csv')"
   ]
  },
  {
   "cell_type": "markdown",
   "id": "a998d6b4",
   "metadata": {},
   "source": [
    "* if codekate score < 7000 (Unsatisfactory.csv)"
   ]
  },
  {
   "cell_type": "code",
   "execution_count": 29,
   "id": "ca193c77",
   "metadata": {},
   "outputs": [],
   "source": [
    "Unsatisfactory = merged_csv.loc[(merged_csv[\"CodeKata Score\"]<70000)]"
   ]
  },
  {
   "cell_type": "code",
   "execution_count": 30,
   "id": "02c25f6f",
   "metadata": {},
   "outputs": [],
   "source": [
    "os.makedirs('D:/DS/task_data_processing', exist_ok=True)  \n",
    "Unsatisfactory.to_csv('D:/DS/task_data_processing/Unsatisfactory_.csv')"
   ]
  },
  {
   "cell_type": "code",
   "execution_count": 31,
   "id": "867a5334",
   "metadata": {},
   "outputs": [
    {
     "data": {
      "text/html": [
       "<div>\n",
       "<style scoped>\n",
       "    .dataframe tbody tr th:only-of-type {\n",
       "        vertical-align: middle;\n",
       "    }\n",
       "\n",
       "    .dataframe tbody tr th {\n",
       "        vertical-align: top;\n",
       "    }\n",
       "\n",
       "    .dataframe thead th {\n",
       "        text-align: right;\n",
       "    }\n",
       "</style>\n",
       "<table border=\"1\" class=\"dataframe\">\n",
       "  <thead>\n",
       "    <tr style=\"text-align: right;\">\n",
       "      <th></th>\n",
       "      <th>Name</th>\n",
       "      <th>python</th>\n",
       "      <th>mysql</th>\n",
       "      <th>Previous Geekions</th>\n",
       "      <th>CodeKata Score</th>\n",
       "      <th>Department</th>\n",
       "      <th>Rising</th>\n",
       "      <th>python_en</th>\n",
       "      <th>computational_thinking</th>\n",
       "    </tr>\n",
       "  </thead>\n",
       "  <tbody>\n",
       "    <tr>\n",
       "      <th>0</th>\n",
       "      <td>A.Dharani</td>\n",
       "      <td>82</td>\n",
       "      <td>20</td>\n",
       "      <td>24500</td>\n",
       "      <td>24500</td>\n",
       "      <td>Computer Science and Engineering</td>\n",
       "      <td>0</td>\n",
       "      <td>NaN</td>\n",
       "      <td>NaN</td>\n",
       "    </tr>\n",
       "    <tr>\n",
       "      <th>1</th>\n",
       "      <td>V.JEEVITHA</td>\n",
       "      <td>82</td>\n",
       "      <td>20</td>\n",
       "      <td>21740</td>\n",
       "      <td>21740</td>\n",
       "      <td>Computer Science and Engineering</td>\n",
       "      <td>0</td>\n",
       "      <td>NaN</td>\n",
       "      <td>NaN</td>\n",
       "    </tr>\n",
       "    <tr>\n",
       "      <th>2</th>\n",
       "      <td>HEMAVATHI.R</td>\n",
       "      <td>100</td>\n",
       "      <td>100</td>\n",
       "      <td>19680</td>\n",
       "      <td>19680</td>\n",
       "      <td>Computer Science and Engineering</td>\n",
       "      <td>0</td>\n",
       "      <td>NaN</td>\n",
       "      <td>NaN</td>\n",
       "    </tr>\n",
       "    <tr>\n",
       "      <th>3</th>\n",
       "      <td>Mugunthan S</td>\n",
       "      <td>100</td>\n",
       "      <td>47</td>\n",
       "      <td>10610</td>\n",
       "      <td>10610</td>\n",
       "      <td>Computer Science and Engineering</td>\n",
       "      <td>0</td>\n",
       "      <td>NaN</td>\n",
       "      <td>NaN</td>\n",
       "    </tr>\n",
       "    <tr>\n",
       "      <th>4</th>\n",
       "      <td>Sathammai.S</td>\n",
       "      <td>100</td>\n",
       "      <td>8</td>\n",
       "      <td>8980</td>\n",
       "      <td>8980</td>\n",
       "      <td>Computer Science and Engineering</td>\n",
       "      <td>0</td>\n",
       "      <td>NaN</td>\n",
       "      <td>NaN</td>\n",
       "    </tr>\n",
       "    <tr>\n",
       "      <th>...</th>\n",
       "      <td>...</td>\n",
       "      <td>...</td>\n",
       "      <td>...</td>\n",
       "      <td>...</td>\n",
       "      <td>...</td>\n",
       "      <td>...</td>\n",
       "      <td>...</td>\n",
       "      <td>...</td>\n",
       "      <td>...</td>\n",
       "    </tr>\n",
       "    <tr>\n",
       "      <th>114</th>\n",
       "      <td>praveen raj j</td>\n",
       "      <td>24</td>\n",
       "      <td>0</td>\n",
       "      <td>2380</td>\n",
       "      <td>2380</td>\n",
       "      <td>Computer Science and Engineering</td>\n",
       "      <td>0</td>\n",
       "      <td>-1.0</td>\n",
       "      <td>0.0</td>\n",
       "    </tr>\n",
       "    <tr>\n",
       "      <th>115</th>\n",
       "      <td>AMARNATH D</td>\n",
       "      <td>-1</td>\n",
       "      <td>12</td>\n",
       "      <td>1890</td>\n",
       "      <td>1890</td>\n",
       "      <td>Electronics and Communication Engineering</td>\n",
       "      <td>0</td>\n",
       "      <td>52.0</td>\n",
       "      <td>-1.0</td>\n",
       "    </tr>\n",
       "    <tr>\n",
       "      <th>116</th>\n",
       "      <td>bala</td>\n",
       "      <td>32</td>\n",
       "      <td>0</td>\n",
       "      <td>1720</td>\n",
       "      <td>1720</td>\n",
       "      <td>Electronics and Communication Engineering</td>\n",
       "      <td>0</td>\n",
       "      <td>49.0</td>\n",
       "      <td>-1.0</td>\n",
       "    </tr>\n",
       "    <tr>\n",
       "      <th>117</th>\n",
       "      <td>XY Z</td>\n",
       "      <td>-1</td>\n",
       "      <td>-1</td>\n",
       "      <td>0</td>\n",
       "      <td>0</td>\n",
       "      <td>Computer Science and Engineering</td>\n",
       "      <td>0</td>\n",
       "      <td>20.0</td>\n",
       "      <td>-1.0</td>\n",
       "    </tr>\n",
       "    <tr>\n",
       "      <th>118</th>\n",
       "      <td>Hariharan</td>\n",
       "      <td>-1</td>\n",
       "      <td>-1</td>\n",
       "      <td>0</td>\n",
       "      <td>0</td>\n",
       "      <td>Computer Science and Engineering</td>\n",
       "      <td>0</td>\n",
       "      <td>-1.0</td>\n",
       "      <td>0.0</td>\n",
       "    </tr>\n",
       "  </tbody>\n",
       "</table>\n",
       "<p>119 rows × 9 columns</p>\n",
       "</div>"
      ],
      "text/plain": [
       "              Name  python  mysql  Previous Geekions  CodeKata Score  \\\n",
       "0        A.Dharani      82     20              24500           24500   \n",
       "1      V.JEEVITHA       82     20              21740           21740   \n",
       "2      HEMAVATHI.R     100    100              19680           19680   \n",
       "3      Mugunthan S     100     47              10610           10610   \n",
       "4      Sathammai.S     100      8               8980            8980   \n",
       "..             ...     ...    ...                ...             ...   \n",
       "114  praveen raj j      24      0               2380            2380   \n",
       "115     AMARNATH D      -1     12               1890            1890   \n",
       "116           bala      32      0               1720            1720   \n",
       "117           XY Z      -1     -1                  0               0   \n",
       "118      Hariharan      -1     -1                  0               0   \n",
       "\n",
       "                                    Department  Rising  python_en  \\\n",
       "0             Computer Science and Engineering       0        NaN   \n",
       "1             Computer Science and Engineering       0        NaN   \n",
       "2             Computer Science and Engineering       0        NaN   \n",
       "3             Computer Science and Engineering       0        NaN   \n",
       "4             Computer Science and Engineering       0        NaN   \n",
       "..                                         ...     ...        ...   \n",
       "114           Computer Science and Engineering       0       -1.0   \n",
       "115  Electronics and Communication Engineering       0       52.0   \n",
       "116  Electronics and Communication Engineering       0       49.0   \n",
       "117           Computer Science and Engineering       0       20.0   \n",
       "118           Computer Science and Engineering       0       -1.0   \n",
       "\n",
       "     computational_thinking  \n",
       "0                       NaN  \n",
       "1                       NaN  \n",
       "2                       NaN  \n",
       "3                       NaN  \n",
       "4                       NaN  \n",
       "..                      ...  \n",
       "114                     0.0  \n",
       "115                    -1.0  \n",
       "116                    -1.0  \n",
       "117                    -1.0  \n",
       "118                     0.0  \n",
       "\n",
       "[119 rows x 9 columns]"
      ]
     },
     "execution_count": 31,
     "metadata": {},
     "output_type": "execute_result"
    }
   ],
   "source": [
    "Unsatisfactory"
   ]
  },
  {
   "cell_type": "markdown",
   "id": "08664c3c",
   "metadata": {},
   "source": [
    "# Average of previous week geekions vs this week geekions (i.e Previous Geekions vs CodeKata Score)"
   ]
  },
  {
   "cell_type": "code",
   "execution_count": 32,
   "id": "19c035b0",
   "metadata": {},
   "outputs": [
    {
     "name": "stdout",
     "output_type": "stream",
     "text": [
      "Previous Geekions: 3842.3529411764707\n",
      "CodeKata Score : 4051.764705882353\n"
     ]
    }
   ],
   "source": [
    "print(\"Previous Geekions:\",merged_csv[\"Previous Geekions\"].mean())\n",
    "print(\"CodeKata Score :\" ,merged_csv[\"CodeKata Score\"].mean())\n"
   ]
  },
  {
   "cell_type": "code",
   "execution_count": 33,
   "id": "e866dd05",
   "metadata": {},
   "outputs": [
    {
     "name": "stderr",
     "output_type": "stream",
     "text": [
      "C:\\Users\\Thamizhiniyan\\AppData\\Local\\Temp\\ipykernel_16048\\2030752910.py:1: FutureWarning: The default value of numeric_only in DataFrame.mean is deprecated. In a future version, it will default to False. In addition, specifying 'numeric_only=None' is deprecated. Select only valid columns or specify the value of numeric_only to silence this warning.\n",
      "  merged_csv.mean()\n"
     ]
    },
    {
     "data": {
      "text/plain": [
       "python                      54.344538\n",
       "mysql                       23.478992\n",
       "Previous Geekions         3842.352941\n",
       "CodeKata Score            4051.764706\n",
       "Rising                     209.411765\n",
       "python_en                   29.657143\n",
       "computational_thinking       2.200000\n",
       "dtype: float64"
      ]
     },
     "execution_count": 33,
     "metadata": {},
     "output_type": "execute_result"
    }
   ],
   "source": [
    "merged_csv.mean()"
   ]
  },
  {
   "cell_type": "markdown",
   "id": "f8fe4606",
   "metadata": {},
   "source": [
    "# No of students participated "
   ]
  },
  {
   "cell_type": "code",
   "execution_count": 34,
   "id": "b4af8a58",
   "metadata": {},
   "outputs": [
    {
     "name": "stdout",
     "output_type": "stream",
     "text": [
      "no.of.participants:  119\n"
     ]
    }
   ],
   "source": [
    "print(\"no.of.participants: \",merged_csv[\"Name\"].count())"
   ]
  },
  {
   "cell_type": "code",
   "execution_count": 35,
   "id": "120b1a17",
   "metadata": {},
   "outputs": [
    {
     "data": {
      "text/plain": [
       "Name                      119\n",
       "python                    119\n",
       "mysql                     119\n",
       "Previous Geekions         119\n",
       "CodeKata Score            119\n",
       "Department                119\n",
       "Rising                    119\n",
       "python_en                  35\n",
       "computational_thinking     35\n",
       "dtype: int64"
      ]
     },
     "execution_count": 35,
     "metadata": {},
     "output_type": "execute_result"
    }
   ],
   "source": [
    "merged_csv.count()"
   ]
  },
  {
   "cell_type": "markdown",
   "id": "bcfbf683",
   "metadata": {},
   "source": [
    "# Average completion of python course or my_sql or python english or computational thinking"
   ]
  },
  {
   "cell_type": "markdown",
   "id": "b614ee70",
   "metadata": {},
   "source": [
    "# rising star of the week (top 3 candidate who performed well in that particular week)"
   ]
  },
  {
   "cell_type": "code",
   "execution_count": 36,
   "id": "bb68a0e7",
   "metadata": {},
   "outputs": [
    {
     "data": {
      "text/plain": [
       "92     3140\n",
       "102    2000\n",
       "86     2000\n",
       "Name: Rising, dtype: int64"
      ]
     },
     "execution_count": 36,
     "metadata": {},
     "output_type": "execute_result"
    }
   ],
   "source": [
    "merged_csv[\"Rising\"].sort_values(ascending = False).head(3)"
   ]
  },
  {
   "cell_type": "code",
   "execution_count": 37,
   "id": "2048ef75",
   "metadata": {},
   "outputs": [
    {
     "data": {
      "text/html": [
       "<div>\n",
       "<style scoped>\n",
       "    .dataframe tbody tr th:only-of-type {\n",
       "        vertical-align: middle;\n",
       "    }\n",
       "\n",
       "    .dataframe tbody tr th {\n",
       "        vertical-align: top;\n",
       "    }\n",
       "\n",
       "    .dataframe thead th {\n",
       "        text-align: right;\n",
       "    }\n",
       "</style>\n",
       "<table border=\"1\" class=\"dataframe\">\n",
       "  <thead>\n",
       "    <tr style=\"text-align: right;\">\n",
       "      <th></th>\n",
       "      <th>Name</th>\n",
       "      <th>python</th>\n",
       "      <th>mysql</th>\n",
       "      <th>Previous Geekions</th>\n",
       "      <th>CodeKata Score</th>\n",
       "      <th>Department</th>\n",
       "      <th>Rising</th>\n",
       "      <th>python_en</th>\n",
       "      <th>computational_thinking</th>\n",
       "    </tr>\n",
       "  </thead>\n",
       "  <tbody>\n",
       "    <tr>\n",
       "      <th>92</th>\n",
       "      <td>shifak N</td>\n",
       "      <td>58</td>\n",
       "      <td>0</td>\n",
       "      <td>5180</td>\n",
       "      <td>8320</td>\n",
       "      <td>Electronics and Electrical Engineering</td>\n",
       "      <td>3140</td>\n",
       "      <td>0.0</td>\n",
       "      <td>0.0</td>\n",
       "    </tr>\n",
       "    <tr>\n",
       "      <th>102</th>\n",
       "      <td>Narasimhan Y L</td>\n",
       "      <td>-1</td>\n",
       "      <td>0</td>\n",
       "      <td>4800</td>\n",
       "      <td>6800</td>\n",
       "      <td>Computer Science and Engineering</td>\n",
       "      <td>2000</td>\n",
       "      <td>-1.0</td>\n",
       "      <td>0.0</td>\n",
       "    </tr>\n",
       "    <tr>\n",
       "      <th>86</th>\n",
       "      <td>Ganesh Ramkumar R</td>\n",
       "      <td>-1</td>\n",
       "      <td>24</td>\n",
       "      <td>8790</td>\n",
       "      <td>10790</td>\n",
       "      <td>Computer Science and Engineering</td>\n",
       "      <td>2000</td>\n",
       "      <td>55.0</td>\n",
       "      <td>6.0</td>\n",
       "    </tr>\n",
       "  </tbody>\n",
       "</table>\n",
       "</div>"
      ],
      "text/plain": [
       "                  Name  python  mysql  Previous Geekions  CodeKata Score  \\\n",
       "92            shifak N      58      0               5180            8320   \n",
       "102     Narasimhan Y L      -1      0               4800            6800   \n",
       "86   Ganesh Ramkumar R      -1     24               8790           10790   \n",
       "\n",
       "                                 Department  Rising  python_en  \\\n",
       "92   Electronics and Electrical Engineering    3140        0.0   \n",
       "102        Computer Science and Engineering    2000       -1.0   \n",
       "86         Computer Science and Engineering    2000       55.0   \n",
       "\n",
       "     computational_thinking  \n",
       "92                      0.0  \n",
       "102                     0.0  \n",
       "86                      6.0  "
      ]
     },
     "execution_count": 37,
     "metadata": {},
     "output_type": "execute_result"
    }
   ],
   "source": [
    "merged_csv.sort_values(by=\"Rising\",ascending = False).head(3)"
   ]
  },
  {
   "cell_type": "markdown",
   "id": "01d4c99a",
   "metadata": {},
   "source": [
    "# Shining stars of the week (top 3 candidates who has highest geekions)"
   ]
  },
  {
   "cell_type": "code",
   "execution_count": 38,
   "id": "3fba02ea",
   "metadata": {},
   "outputs": [
    {
     "data": {
      "text/html": [
       "<div>\n",
       "<style scoped>\n",
       "    .dataframe tbody tr th:only-of-type {\n",
       "        vertical-align: middle;\n",
       "    }\n",
       "\n",
       "    .dataframe tbody tr th {\n",
       "        vertical-align: top;\n",
       "    }\n",
       "\n",
       "    .dataframe thead th {\n",
       "        text-align: right;\n",
       "    }\n",
       "</style>\n",
       "<table border=\"1\" class=\"dataframe\">\n",
       "  <thead>\n",
       "    <tr style=\"text-align: right;\">\n",
       "      <th></th>\n",
       "      <th>Name</th>\n",
       "      <th>python</th>\n",
       "      <th>mysql</th>\n",
       "      <th>Previous Geekions</th>\n",
       "      <th>CodeKata Score</th>\n",
       "      <th>Department</th>\n",
       "      <th>Rising</th>\n",
       "      <th>python_en</th>\n",
       "      <th>computational_thinking</th>\n",
       "    </tr>\n",
       "  </thead>\n",
       "  <tbody>\n",
       "    <tr>\n",
       "      <th>0</th>\n",
       "      <td>A.Dharani</td>\n",
       "      <td>82</td>\n",
       "      <td>20</td>\n",
       "      <td>24500</td>\n",
       "      <td>24500</td>\n",
       "      <td>Computer Science and Engineering</td>\n",
       "      <td>0</td>\n",
       "      <td>NaN</td>\n",
       "      <td>NaN</td>\n",
       "    </tr>\n",
       "    <tr>\n",
       "      <th>1</th>\n",
       "      <td>V.JEEVITHA</td>\n",
       "      <td>82</td>\n",
       "      <td>20</td>\n",
       "      <td>21740</td>\n",
       "      <td>21740</td>\n",
       "      <td>Computer Science and Engineering</td>\n",
       "      <td>0</td>\n",
       "      <td>NaN</td>\n",
       "      <td>NaN</td>\n",
       "    </tr>\n",
       "    <tr>\n",
       "      <th>2</th>\n",
       "      <td>HEMAVATHI.R</td>\n",
       "      <td>100</td>\n",
       "      <td>100</td>\n",
       "      <td>19680</td>\n",
       "      <td>19680</td>\n",
       "      <td>Computer Science and Engineering</td>\n",
       "      <td>0</td>\n",
       "      <td>NaN</td>\n",
       "      <td>NaN</td>\n",
       "    </tr>\n",
       "  </tbody>\n",
       "</table>\n",
       "</div>"
      ],
      "text/plain": [
       "          Name  python  mysql  Previous Geekions  CodeKata Score  \\\n",
       "0    A.Dharani      82     20              24500           24500   \n",
       "1  V.JEEVITHA       82     20              21740           21740   \n",
       "2  HEMAVATHI.R     100    100              19680           19680   \n",
       "\n",
       "                         Department  Rising  python_en  computational_thinking  \n",
       "0  Computer Science and Engineering       0        NaN                     NaN  \n",
       "1  Computer Science and Engineering       0        NaN                     NaN  \n",
       "2  Computer Science and Engineering       0        NaN                     NaN  "
      ]
     },
     "execution_count": 38,
     "metadata": {},
     "output_type": "execute_result"
    }
   ],
   "source": [
    "merged_csv.sort_values(by=\"CodeKata Score\",ascending = False).head(3)"
   ]
  },
  {
   "cell_type": "markdown",
   "id": "38b111f6",
   "metadata": {},
   "source": [
    "# Department wise codekata performence (pie chart)"
   ]
  },
  {
   "cell_type": "code",
   "execution_count": 39,
   "id": "696dc9bc",
   "metadata": {},
   "outputs": [],
   "source": [
    "import seaborn as sns\n",
    "import numpy as np\n",
    "import matplotlib.pyplot as plt"
   ]
  },
  {
   "cell_type": "code",
   "execution_count": 40,
   "id": "953f1258",
   "metadata": {},
   "outputs": [
    {
     "data": {
      "text/plain": [
       "Computer Science and Engineering             63\n",
       "Electronics and Communication Engineering    39\n",
       "Electronics and Electrical Engineering       17\n",
       "Name: Department, dtype: int64"
      ]
     },
     "execution_count": 40,
     "metadata": {},
     "output_type": "execute_result"
    }
   ],
   "source": [
    "merged_csv.Department.value_counts()"
   ]
  },
  {
   "cell_type": "code",
   "execution_count": 41,
   "id": "1057b3a2",
   "metadata": {},
   "outputs": [],
   "source": [
    "dep = merged_csv[\"CodeKata Score\"].groupby([merged_csv[\"Department\"]]).sum()"
   ]
  },
  {
   "cell_type": "code",
   "execution_count": 42,
   "id": "0d8744cc",
   "metadata": {},
   "outputs": [],
   "source": [
    "total_score = dep.sum()"
   ]
  },
  {
   "cell_type": "code",
   "execution_count": 43,
   "id": "06a483b3",
   "metadata": {},
   "outputs": [],
   "source": [
    "# dep[0]\n",
    "# dep[1]\n",
    "# dep[2]"
   ]
  },
  {
   "cell_type": "code",
   "execution_count": 44,
   "id": "c9053c25",
   "metadata": {},
   "outputs": [],
   "source": [
    "dep.index =[\"CSE\",\"ECE\",\"EEE\"]"
   ]
  },
  {
   "cell_type": "code",
   "execution_count": 45,
   "id": "5bb24d92",
   "metadata": {},
   "outputs": [
    {
     "data": {
      "text/html": [
       "<div>\n",
       "<style scoped>\n",
       "    .dataframe tbody tr th:only-of-type {\n",
       "        vertical-align: middle;\n",
       "    }\n",
       "\n",
       "    .dataframe tbody tr th {\n",
       "        vertical-align: top;\n",
       "    }\n",
       "\n",
       "    .dataframe thead th {\n",
       "        text-align: right;\n",
       "    }\n",
       "</style>\n",
       "<table border=\"1\" class=\"dataframe\">\n",
       "  <thead>\n",
       "    <tr style=\"text-align: right;\">\n",
       "      <th></th>\n",
       "      <th>total</th>\n",
       "    </tr>\n",
       "  </thead>\n",
       "  <tbody>\n",
       "    <tr>\n",
       "      <th>CSE</th>\n",
       "      <td>320025</td>\n",
       "    </tr>\n",
       "    <tr>\n",
       "      <th>ECE</th>\n",
       "      <td>108335</td>\n",
       "    </tr>\n",
       "    <tr>\n",
       "      <th>EEE</th>\n",
       "      <td>53800</td>\n",
       "    </tr>\n",
       "  </tbody>\n",
       "</table>\n",
       "</div>"
      ],
      "text/plain": [
       "      total\n",
       "CSE  320025\n",
       "ECE  108335\n",
       "EEE   53800"
      ]
     },
     "execution_count": 45,
     "metadata": {},
     "output_type": "execute_result"
    }
   ],
   "source": [
    "pd.DataFrame({\"total\":[dep[0],dep[1],dep[2]]},index=dep.index)"
   ]
  },
  {
   "cell_type": "code",
   "execution_count": 46,
   "id": "3a7a1030",
   "metadata": {},
   "outputs": [
    {
     "data": {
      "image/png": "[encoded data removed]",
      "text/plain": [
       "<Figure size 640x480 with 1 Axes>"
      ]
     },
     "metadata": {},
     "output_type": "display_data"
    }
   ],
   "source": [
    "def score():\n",
    "    plt.pie([dep[0]/total_score,dep[1]/total_score,dep[2]/total_score],\n",
    "        startangle = 90 ,\n",
    "        shadow     = True,\n",
    "        explode    = (0.05,0.03,0.09),\n",
    "        labels     = (\"CSE\",\"ECE\",\"EEE\"),\n",
    "        autopct    = \"%.2f%%\")\n",
    "    plt.title(\"Department wise codekata score percentage of total codekata score\")\n",
    "score()"
   ]
  },
  {
   "cell_type": "markdown",
   "id": "a0356cee",
   "metadata": {},
   "source": [
    "# Department wise toppers (horizantal bar graph or any visual representations of your choice)"
   ]
  },
  {
   "cell_type": "code",
   "execution_count": 47,
   "id": "7b4fc5ae",
   "metadata": {},
   "outputs": [],
   "source": [
    "toppers = merged_csv.groupby(\"Department\")"
   ]
  },
  {
   "cell_type": "code",
   "execution_count": 48,
   "id": "adf79856",
   "metadata": {
    "scrolled": true
   },
   "outputs": [],
   "source": [
    "toppers_table = toppers.apply(lambda x : x.max())\n",
    "toppers_table.index =[\"CSE\",\"ECE\",\"EEE\"]"
   ]
  },
  {
   "cell_type": "code",
   "execution_count": 49,
   "id": "44962480",
   "metadata": {},
   "outputs": [
    {
     "data": {
      "image/png": "[encoded data removed]",
      "text/plain": [
       "<Figure size 600x300 with 1 Axes>"
      ]
     },
     "metadata": {},
     "output_type": "display_data"
    }
   ],
   "source": [
    "def topper_garph():\n",
    "    plt.figure(figsize=(6, 3))\n",
    "    plt.barh(width = toppers_table[\"CodeKata Score\"],y = toppers_table.index,height=0.5)\n",
    "    plt.title(\"Toppers Board Graph\")\n",
    "topper_garph()"
   ]
  },
  {
   "cell_type": "code",
   "execution_count": null,
   "id": "a9147150",
   "metadata": {},
   "outputs": [],
   "source": []
  }
 ],
 "metadata": {
  "kernelspec": {
   "display_name": "Python 3 (ipykernel)",
   "language": "python",
   "name": "python3"
  },
  "language_info": {
   "codemirror_mode": {
    "name": "ipython",
    "version": 3
   },
   "file_extension": ".py",
   "mimetype": "text/x-python",
   "name": "python",
   "nbconvert_exporter": "python",
   "pygments_lexer": "ipython3",
   "version": "3.10.7"
  }
 },
 "nbformat": 4,
 "nbformat_minor": 5
}
