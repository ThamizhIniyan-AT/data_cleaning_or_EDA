{
 "cells": [
  {
   "cell_type": "code",
   "execution_count": 1,
   "id": "2e3938eb",
   "metadata": {},
   "outputs": [],
   "source": [
    "#importing the required libraries"
   ]
  },
  {
   "cell_type": "code",
   "execution_count": 2,
   "id": "6c76767b",
   "metadata": {},
   "outputs": [],
   "source": [
    "import pandas as pd\n",
    "import numpy as np\n",
    "from matplotlib import pyplot as plt"
   ]
  },
  {
   "cell_type": "code",
   "execution_count": 3,
   "id": "7dd1ef56",
   "metadata": {},
   "outputs": [],
   "source": [
    "# seting the kernal display options "
   ]
  },
  {
   "cell_type": "code",
   "execution_count": 4,
   "id": "6615d7c8",
   "metadata": {},
   "outputs": [],
   "source": [
    "pd.set_option('display.max_rows', 250)\n",
    "pd.set_option('display.max_columns', 50)\n",
    "pd.set_option('display.width', 1000)"
   ]
  },
  {
   "cell_type": "code",
   "execution_count": 5,
   "id": "f5491a44",
   "metadata": {},
   "outputs": [],
   "source": [
    "# loading the csv data file from the local disk "
   ]
  },
  {
   "cell_type": "code",
   "execution_count": 6,
   "id": "3b11d928",
   "metadata": {},
   "outputs": [],
   "source": [
    "pgn =pd.read_csv(\"C:/Users/Thamizhiniyan/Downloads/penguine/penguin_ds.csv\")"
   ]
  },
  {
   "cell_type": "code",
   "execution_count": 7,
   "id": "e60cc028",
   "metadata": {},
   "outputs": [
    {
     "data": {
      "text/html": [
       "<div>\n",
       "<style scoped>\n",
       "    .dataframe tbody tr th:only-of-type {\n",
       "        vertical-align: middle;\n",
       "    }\n",
       "\n",
       "    .dataframe tbody tr th {\n",
       "        vertical-align: top;\n",
       "    }\n",
       "\n",
       "    .dataframe thead th {\n",
       "        text-align: right;\n",
       "    }\n",
       "</style>\n",
       "<table border=\"1\" class=\"dataframe\">\n",
       "  <thead>\n",
       "    <tr style=\"text-align: right;\">\n",
       "      <th></th>\n",
       "      <th>studyName</th>\n",
       "      <th>Sample Number</th>\n",
       "      <th>Species</th>\n",
       "      <th>Region</th>\n",
       "      <th>Island</th>\n",
       "      <th>Stage</th>\n",
       "      <th>Individual ID</th>\n",
       "      <th>Clutch Completion</th>\n",
       "      <th>Date Egg</th>\n",
       "      <th>Culmen Length (mm)</th>\n",
       "      <th>Culmen Depth (mm)</th>\n",
       "      <th>Flipper Length (mm)</th>\n",
       "      <th>Body Mass (g)</th>\n",
       "      <th>Sex</th>\n",
       "      <th>Delta 15 N (o/oo)</th>\n",
       "      <th>Delta 13 C (o/oo)</th>\n",
       "      <th>Comments</th>\n",
       "    </tr>\n",
       "  </thead>\n",
       "  <tbody>\n",
       "    <tr>\n",
       "      <th>0</th>\n",
       "      <td>PAL0708</td>\n",
       "      <td>1</td>\n",
       "      <td>Adelie Penguin (Pygoscelis adeliae)</td>\n",
       "      <td>Anvers</td>\n",
       "      <td>Torgersen</td>\n",
       "      <td>Adult, 1 Egg Stage</td>\n",
       "      <td>N1A1</td>\n",
       "      <td>Yes</td>\n",
       "      <td>11/11/07</td>\n",
       "      <td>39.1</td>\n",
       "      <td>18.7</td>\n",
       "      <td>181.0</td>\n",
       "      <td>3750.0</td>\n",
       "      <td>MALE</td>\n",
       "      <td>NaN</td>\n",
       "      <td>NaN</td>\n",
       "      <td>Not enough blood for isotopes.</td>\n",
       "    </tr>\n",
       "    <tr>\n",
       "      <th>1</th>\n",
       "      <td>PAL0708</td>\n",
       "      <td>2</td>\n",
       "      <td>Adelie Penguin (Pygoscelis adeliae)</td>\n",
       "      <td>Anvers</td>\n",
       "      <td>Torgersen</td>\n",
       "      <td>Adult, 1 Egg Stage</td>\n",
       "      <td>N1A2</td>\n",
       "      <td>Yes</td>\n",
       "      <td>11/11/07</td>\n",
       "      <td>39.5</td>\n",
       "      <td>17.4</td>\n",
       "      <td>186.0</td>\n",
       "      <td>3800.0</td>\n",
       "      <td>FEMALE</td>\n",
       "      <td>8.94956</td>\n",
       "      <td>-24.69454</td>\n",
       "      <td>NaN</td>\n",
       "    </tr>\n",
       "  </tbody>\n",
       "</table>\n",
       "</div>"
      ],
      "text/plain": [
       "  studyName  Sample Number                              Species  Region     Island               Stage Individual ID Clutch Completion  Date Egg  Culmen Length (mm)  Culmen Depth (mm)  Flipper Length (mm)  Body Mass (g)     Sex  Delta 15 N (o/oo)  Delta 13 C (o/oo)                        Comments\n",
       "0   PAL0708              1  Adelie Penguin (Pygoscelis adeliae)  Anvers  Torgersen  Adult, 1 Egg Stage          N1A1               Yes  11/11/07                39.1               18.7                181.0         3750.0    MALE                NaN                NaN  Not enough blood for isotopes.\n",
       "1   PAL0708              2  Adelie Penguin (Pygoscelis adeliae)  Anvers  Torgersen  Adult, 1 Egg Stage          N1A2               Yes  11/11/07                39.5               17.4                186.0         3800.0  FEMALE            8.94956          -24.69454                             NaN"
      ]
     },
     "execution_count": 7,
     "metadata": {},
     "output_type": "execute_result"
    }
   ],
   "source": [
    "pgn.head(2)"
   ]
  },
  {
   "cell_type": "code",
   "execution_count": 8,
   "id": "f05848bf",
   "metadata": {},
   "outputs": [
    {
     "data": {
      "text/html": [
       "<div>\n",
       "<style scoped>\n",
       "    .dataframe tbody tr th:only-of-type {\n",
       "        vertical-align: middle;\n",
       "    }\n",
       "\n",
       "    .dataframe tbody tr th {\n",
       "        vertical-align: top;\n",
       "    }\n",
       "\n",
       "    .dataframe thead th {\n",
       "        text-align: right;\n",
       "    }\n",
       "</style>\n",
       "<table border=\"1\" class=\"dataframe\">\n",
       "  <thead>\n",
       "    <tr style=\"text-align: right;\">\n",
       "      <th></th>\n",
       "      <th>studyName</th>\n",
       "      <th>Sample Number</th>\n",
       "      <th>Species</th>\n",
       "      <th>Region</th>\n",
       "      <th>Island</th>\n",
       "      <th>Stage</th>\n",
       "      <th>Individual ID</th>\n",
       "      <th>Clutch Completion</th>\n",
       "      <th>Date Egg</th>\n",
       "      <th>Culmen Length (mm)</th>\n",
       "      <th>Culmen Depth (mm)</th>\n",
       "      <th>Flipper Length (mm)</th>\n",
       "      <th>Body Mass (g)</th>\n",
       "      <th>Sex</th>\n",
       "      <th>Delta 15 N (o/oo)</th>\n",
       "      <th>Delta 13 C (o/oo)</th>\n",
       "      <th>Comments</th>\n",
       "    </tr>\n",
       "  </thead>\n",
       "  <tbody>\n",
       "    <tr>\n",
       "      <th>342</th>\n",
       "      <td>PAL0910</td>\n",
       "      <td>123</td>\n",
       "      <td>Gentoo penguin (Pygoscelis papua)</td>\n",
       "      <td>Anvers</td>\n",
       "      <td>Biscoe</td>\n",
       "      <td>Adult, 1 Egg Stage</td>\n",
       "      <td>N43A1</td>\n",
       "      <td>Yes</td>\n",
       "      <td>11/22/09</td>\n",
       "      <td>45.2</td>\n",
       "      <td>14.8</td>\n",
       "      <td>212.0</td>\n",
       "      <td>5200.0</td>\n",
       "      <td>FEMALE</td>\n",
       "      <td>8.24246</td>\n",
       "      <td>-26.11969</td>\n",
       "      <td>NaN</td>\n",
       "    </tr>\n",
       "    <tr>\n",
       "      <th>343</th>\n",
       "      <td>PAL0910</td>\n",
       "      <td>124</td>\n",
       "      <td>Gentoo penguin (Pygoscelis papua)</td>\n",
       "      <td>Anvers</td>\n",
       "      <td>Biscoe</td>\n",
       "      <td>Adult, 1 Egg Stage</td>\n",
       "      <td>N43A2</td>\n",
       "      <td>Yes</td>\n",
       "      <td>11/22/09</td>\n",
       "      <td>49.9</td>\n",
       "      <td>16.1</td>\n",
       "      <td>213.0</td>\n",
       "      <td>5400.0</td>\n",
       "      <td>MALE</td>\n",
       "      <td>8.36390</td>\n",
       "      <td>-26.15531</td>\n",
       "      <td>NaN</td>\n",
       "    </tr>\n",
       "  </tbody>\n",
       "</table>\n",
       "</div>"
      ],
      "text/plain": [
       "    studyName  Sample Number                            Species  Region  Island               Stage Individual ID Clutch Completion  Date Egg  Culmen Length (mm)  Culmen Depth (mm)  Flipper Length (mm)  Body Mass (g)     Sex  Delta 15 N (o/oo)  Delta 13 C (o/oo) Comments\n",
       "342   PAL0910            123  Gentoo penguin (Pygoscelis papua)  Anvers  Biscoe  Adult, 1 Egg Stage         N43A1               Yes  11/22/09                45.2               14.8                212.0         5200.0  FEMALE            8.24246          -26.11969      NaN\n",
       "343   PAL0910            124  Gentoo penguin (Pygoscelis papua)  Anvers  Biscoe  Adult, 1 Egg Stage         N43A2               Yes  11/22/09                49.9               16.1                213.0         5400.0    MALE            8.36390          -26.15531      NaN"
      ]
     },
     "execution_count": 8,
     "metadata": {},
     "output_type": "execute_result"
    }
   ],
   "source": [
    "pgn.tail(2)"
   ]
  },
  {
   "cell_type": "code",
   "execution_count": 9,
   "id": "5c53eec1",
   "metadata": {},
   "outputs": [],
   "source": [
    "#checking the shape of the dataset"
   ]
  },
  {
   "cell_type": "code",
   "execution_count": 10,
   "id": "0b0cdf24",
   "metadata": {},
   "outputs": [
    {
     "data": {
      "text/plain": [
       "(344, 17)"
      ]
     },
     "execution_count": 10,
     "metadata": {},
     "output_type": "execute_result"
    }
   ],
   "source": [
    "pgn.shape  # 344 rows and 17 columns"
   ]
  },
  {
   "cell_type": "code",
   "execution_count": 11,
   "id": "40b312d9",
   "metadata": {},
   "outputs": [
    {
     "data": {
      "text/plain": [
       "5848"
      ]
     },
     "execution_count": 11,
     "metadata": {},
     "output_type": "execute_result"
    }
   ],
   "source": [
    "pgn.size #total  no of data obsevations"
   ]
  },
  {
   "cell_type": "code",
   "execution_count": 12,
   "id": "36b9bc25",
   "metadata": {},
   "outputs": [
    {
     "data": {
      "text/plain": [
       "studyName               object\n",
       "Sample Number            int64\n",
       "Species                 object\n",
       "Region                  object\n",
       "Island                  object\n",
       "Stage                   object\n",
       "Individual ID           object\n",
       "Clutch Completion       object\n",
       "Date Egg                object\n",
       "Culmen Length (mm)     float64\n",
       "Culmen Depth (mm)      float64\n",
       "Flipper Length (mm)    float64\n",
       "Body Mass (g)          float64\n",
       "Sex                     object\n",
       "Delta 15 N (o/oo)      float64\n",
       "Delta 13 C (o/oo)      float64\n",
       "Comments                object\n",
       "dtype: object"
      ]
     },
     "execution_count": 12,
     "metadata": {},
     "output_type": "execute_result"
    }
   ],
   "source": [
    "pgn.dtypes # looking for the data types of the each columns\n",
    "           # date time format is in object"
   ]
  },
  {
   "cell_type": "code",
   "execution_count": 13,
   "id": "65215fc8",
   "metadata": {},
   "outputs": [],
   "source": [
    "#checking th distinct samples in each column"
   ]
  },
  {
   "cell_type": "code",
   "execution_count": 14,
   "id": "99108186",
   "metadata": {},
   "outputs": [
    {
     "data": {
      "text/plain": [
       "studyName                3\n",
       "Sample Number          152\n",
       "Species                  3\n",
       "Region                   1\n",
       "Island                   3\n",
       "Stage                    1\n",
       "Individual ID          190\n",
       "Clutch Completion        2\n",
       "Date Egg                50\n",
       "Culmen Length (mm)     164\n",
       "Culmen Depth (mm)       80\n",
       "Flipper Length (mm)     55\n",
       "Body Mass (g)           94\n",
       "Sex                      3\n",
       "Delta 15 N (o/oo)      330\n",
       "Delta 13 C (o/oo)      331\n",
       "Comments                 7\n",
       "dtype: int64"
      ]
     },
     "execution_count": 14,
     "metadata": {},
     "output_type": "execute_result"
    }
   ],
   "source": [
    "pgn.nunique()"
   ]
  },
  {
   "cell_type": "markdown",
   "id": "ba9b0b7c",
   "metadata": {},
   "source": [
    "#### > figure out the dataset in a brief view and understanding the datas in it"
   ]
  },
  {
   "cell_type": "code",
   "execution_count": 15,
   "id": "ac701492",
   "metadata": {},
   "outputs": [
    {
     "data": {
      "text/plain": [
       "array(['Yes', 'No'], dtype=object)"
      ]
     },
     "execution_count": 15,
     "metadata": {},
     "output_type": "execute_result"
    }
   ],
   "source": [
    "pgn[\"Clutch Completion\"].unique()"
   ]
  },
  {
   "cell_type": "code",
   "execution_count": 16,
   "id": "0d6652e3",
   "metadata": {
    "scrolled": true
   },
   "outputs": [
    {
     "data": {
      "text/plain": [
       "array(['Not enough blood for isotopes.', nan, 'Adult not sampled.',\n",
       "       'Nest never observed with full clutch.',\n",
       "       'No blood sample obtained.',\n",
       "       'No blood sample obtained for sexing.',\n",
       "       'Nest never observed with full clutch. Not enough blood for isotopes.',\n",
       "       'Sexing primers did not amplify. Not enough blood for isotopes.'],\n",
       "      dtype=object)"
      ]
     },
     "execution_count": 16,
     "metadata": {},
     "output_type": "execute_result"
    }
   ],
   "source": [
    "pgn[\"Comments\"].unique()"
   ]
  },
  {
   "cell_type": "code",
   "execution_count": 17,
   "id": "cf33157d",
   "metadata": {},
   "outputs": [
    {
     "data": {
      "text/plain": [
       "array([  1,   2,   3,   4,   5,   6,   7,   8,   9,  10,  11,  12,  13,\n",
       "        14,  15,  16,  17,  18,  19,  20,  21,  22,  23,  24,  25,  26,\n",
       "        27,  28,  29,  30,  31,  32,  33,  34,  35,  36,  37,  38,  39,\n",
       "        40,  41,  42,  43,  44,  45,  46,  47,  48,  49,  50,  51,  52,\n",
       "        53,  54,  55,  56,  57,  58,  59,  60,  61,  62,  63,  64,  65,\n",
       "        66,  67,  68,  69,  70,  71,  72,  73,  74,  75,  76,  77,  78,\n",
       "        79,  80,  81,  82,  83,  84,  85,  86,  87,  88,  89,  90,  91,\n",
       "        92,  93,  94,  95,  96,  97,  98,  99, 100, 101, 102, 103, 104,\n",
       "       105, 106, 107, 108, 109, 110, 111, 112, 113, 114, 115, 116, 117,\n",
       "       118, 119, 120, 121, 122, 123, 124, 125, 126, 127, 128, 129, 130,\n",
       "       131, 132, 133, 134, 135, 136, 137, 138, 139, 140, 141, 142, 143,\n",
       "       144, 145, 146, 147, 148, 149, 150, 151, 152], dtype=int64)"
      ]
     },
     "execution_count": 17,
     "metadata": {},
     "output_type": "execute_result"
    }
   ],
   "source": [
    "pgn[\"Sample Number\"].unique()"
   ]
  },
  {
   "cell_type": "code",
   "execution_count": 18,
   "id": "d5ebf3f0",
   "metadata": {
    "scrolled": false
   },
   "outputs": [
    {
     "data": {
      "text/plain": [
       "Biscoe       168\n",
       "Dream        124\n",
       "Torgersen     52\n",
       "Name: Island, dtype: int64"
      ]
     },
     "execution_count": 18,
     "metadata": {},
     "output_type": "execute_result"
    }
   ],
   "source": [
    "pgn[\"Island\"].value_counts()"
   ]
  },
  {
   "cell_type": "code",
   "execution_count": null,
   "id": "24412ff5",
   "metadata": {},
   "outputs": [],
   "source": []
  },
  {
   "cell_type": "code",
   "execution_count": 19,
   "id": "31d92363",
   "metadata": {},
   "outputs": [
    {
     "data": {
      "text/plain": [
       "190"
      ]
     },
     "execution_count": 19,
     "metadata": {},
     "output_type": "execute_result"
    }
   ],
   "source": [
    "pgn[\"Individual ID\"].nunique()"
   ]
  },
  {
   "cell_type": "code",
   "execution_count": 20,
   "id": "35739c03",
   "metadata": {
    "scrolled": true
   },
   "outputs": [
    {
     "data": {
      "text/plain": [
       "154"
      ]
     },
     "execution_count": 20,
     "metadata": {},
     "output_type": "execute_result"
    }
   ],
   "source": [
    "pgn[\"Individual ID\"].duplicated().sum()"
   ]
  },
  {
   "cell_type": "code",
   "execution_count": 21,
   "id": "0ff2ffa0",
   "metadata": {},
   "outputs": [
    {
     "data": {
      "text/plain": [
       "True"
      ]
     },
     "execution_count": 21,
     "metadata": {},
     "output_type": "execute_result"
    }
   ],
   "source": [
    "190+154 == pgn.shape[0]"
   ]
  },
  {
   "cell_type": "code",
   "execution_count": 22,
   "id": "056fb079",
   "metadata": {
    "scrolled": true
   },
   "outputs": [
    {
     "data": {
      "text/plain": [
       "Index(['studyName', 'Sample Number', 'Species', 'Region', 'Island', 'Stage', 'Individual ID', 'Clutch Completion', 'Date Egg', 'Culmen Length (mm)', 'Culmen Depth (mm)', 'Flipper Length (mm)', 'Body Mass (g)', 'Sex', 'Delta 15 N (o/oo)', 'Delta 13 C (o/oo)', 'Comments'], dtype='object')"
      ]
     },
     "execution_count": 22,
     "metadata": {},
     "output_type": "execute_result"
    }
   ],
   "source": [
    "# looking the columns names for the extraction process\n",
    "pgn.columns"
   ]
  },
  {
   "cell_type": "code",
   "execution_count": 23,
   "id": "b9b290f5",
   "metadata": {},
   "outputs": [],
   "source": [
    "\"\"\"extracting the column that hold survey variables\n",
    "   which is not important for the species identification \"\"\"\n",
    "surveyid = pgn.loc[:,['studyName','Sample Number','Individual ID',\n",
    "                      'Clutch Completion']]"
   ]
  },
  {
   "cell_type": "code",
   "execution_count": 24,
   "id": "809eeb2e",
   "metadata": {},
   "outputs": [
    {
     "data": {
      "text/html": [
       "<div>\n",
       "<style scoped>\n",
       "    .dataframe tbody tr th:only-of-type {\n",
       "        vertical-align: middle;\n",
       "    }\n",
       "\n",
       "    .dataframe tbody tr th {\n",
       "        vertical-align: top;\n",
       "    }\n",
       "\n",
       "    .dataframe thead th {\n",
       "        text-align: right;\n",
       "    }\n",
       "</style>\n",
       "<table border=\"1\" class=\"dataframe\">\n",
       "  <thead>\n",
       "    <tr style=\"text-align: right;\">\n",
       "      <th></th>\n",
       "      <th>studyName</th>\n",
       "      <th>Sample Number</th>\n",
       "      <th>Individual ID</th>\n",
       "      <th>Clutch Completion</th>\n",
       "    </tr>\n",
       "  </thead>\n",
       "  <tbody>\n",
       "    <tr>\n",
       "      <th>0</th>\n",
       "      <td>PAL0708</td>\n",
       "      <td>1</td>\n",
       "      <td>N1A1</td>\n",
       "      <td>Yes</td>\n",
       "    </tr>\n",
       "    <tr>\n",
       "      <th>1</th>\n",
       "      <td>PAL0708</td>\n",
       "      <td>2</td>\n",
       "      <td>N1A2</td>\n",
       "      <td>Yes</td>\n",
       "    </tr>\n",
       "  </tbody>\n",
       "</table>\n",
       "</div>"
      ],
      "text/plain": [
       "  studyName  Sample Number Individual ID Clutch Completion\n",
       "0   PAL0708              1          N1A1               Yes\n",
       "1   PAL0708              2          N1A2               Yes"
      ]
     },
     "execution_count": 24,
     "metadata": {},
     "output_type": "execute_result"
    }
   ],
   "source": [
    "surveyid.head(2)"
   ]
  },
  {
   "cell_type": "code",
   "execution_count": 25,
   "id": "3279c26f",
   "metadata": {},
   "outputs": [],
   "source": [
    "'''Extracting out the location and climate of the species'''\n",
    "\n",
    "location = pgn.loc[:,[\"Region\",\"Island\",\"Delta 15 N (o/oo)\",\n",
    "                      \"Delta 13 C (o/oo)\",\"Species\"]]"
   ]
  },
  {
   "cell_type": "code",
   "execution_count": 26,
   "id": "9f8a42ca",
   "metadata": {},
   "outputs": [
    {
     "data": {
      "text/html": [
       "<div>\n",
       "<style scoped>\n",
       "    .dataframe tbody tr th:only-of-type {\n",
       "        vertical-align: middle;\n",
       "    }\n",
       "\n",
       "    .dataframe tbody tr th {\n",
       "        vertical-align: top;\n",
       "    }\n",
       "\n",
       "    .dataframe thead th {\n",
       "        text-align: right;\n",
       "    }\n",
       "</style>\n",
       "<table border=\"1\" class=\"dataframe\">\n",
       "  <thead>\n",
       "    <tr style=\"text-align: right;\">\n",
       "      <th></th>\n",
       "      <th>Region</th>\n",
       "      <th>Island</th>\n",
       "      <th>Delta 15 N (o/oo)</th>\n",
       "      <th>Delta 13 C (o/oo)</th>\n",
       "      <th>Species</th>\n",
       "    </tr>\n",
       "  </thead>\n",
       "  <tbody>\n",
       "    <tr>\n",
       "      <th>0</th>\n",
       "      <td>Anvers</td>\n",
       "      <td>Torgersen</td>\n",
       "      <td>NaN</td>\n",
       "      <td>NaN</td>\n",
       "      <td>Adelie Penguin (Pygoscelis adeliae)</td>\n",
       "    </tr>\n",
       "    <tr>\n",
       "      <th>1</th>\n",
       "      <td>Anvers</td>\n",
       "      <td>Torgersen</td>\n",
       "      <td>8.94956</td>\n",
       "      <td>-24.69454</td>\n",
       "      <td>Adelie Penguin (Pygoscelis adeliae)</td>\n",
       "    </tr>\n",
       "  </tbody>\n",
       "</table>\n",
       "</div>"
      ],
      "text/plain": [
       "   Region     Island  Delta 15 N (o/oo)  Delta 13 C (o/oo)                              Species\n",
       "0  Anvers  Torgersen                NaN                NaN  Adelie Penguin (Pygoscelis adeliae)\n",
       "1  Anvers  Torgersen            8.94956          -24.69454  Adelie Penguin (Pygoscelis adeliae)"
      ]
     },
     "execution_count": 26,
     "metadata": {},
     "output_type": "execute_result"
    }
   ],
   "source": [
    "location.head(2)"
   ]
  },
  {
   "cell_type": "markdown",
   "id": "70b3aed6",
   "metadata": {},
   "source": [
    "> Extracting out the required dataset to move further"
   ]
  },
  {
   "cell_type": "code",
   "execution_count": 27,
   "id": "8f7d8c19",
   "metadata": {},
   "outputs": [],
   "source": [
    "\n",
    "pgn_ext = pgn.loc[:,[\"Species\",\"Island\",\"Date Egg\",\n",
    "                     \"Culmen Length (mm)\",\"Culmen Depth (mm)\",\n",
    "                     \"Flipper Length (mm)\",\"Body Mass (g)\",\n",
    "                     \"Sex\",\"Stage\"]]"
   ]
  },
  {
   "cell_type": "code",
   "execution_count": 28,
   "id": "be351bdf",
   "metadata": {},
   "outputs": [
    {
     "data": {
      "text/html": [
       "<div>\n",
       "<style scoped>\n",
       "    .dataframe tbody tr th:only-of-type {\n",
       "        vertical-align: middle;\n",
       "    }\n",
       "\n",
       "    .dataframe tbody tr th {\n",
       "        vertical-align: top;\n",
       "    }\n",
       "\n",
       "    .dataframe thead th {\n",
       "        text-align: right;\n",
       "    }\n",
       "</style>\n",
       "<table border=\"1\" class=\"dataframe\">\n",
       "  <thead>\n",
       "    <tr style=\"text-align: right;\">\n",
       "      <th></th>\n",
       "      <th>Species</th>\n",
       "      <th>Island</th>\n",
       "      <th>Date Egg</th>\n",
       "      <th>Culmen Length (mm)</th>\n",
       "      <th>Culmen Depth (mm)</th>\n",
       "      <th>Flipper Length (mm)</th>\n",
       "      <th>Body Mass (g)</th>\n",
       "      <th>Sex</th>\n",
       "      <th>Stage</th>\n",
       "    </tr>\n",
       "  </thead>\n",
       "  <tbody>\n",
       "    <tr>\n",
       "      <th>0</th>\n",
       "      <td>Adelie Penguin (Pygoscelis adeliae)</td>\n",
       "      <td>Torgersen</td>\n",
       "      <td>11/11/07</td>\n",
       "      <td>39.1</td>\n",
       "      <td>18.7</td>\n",
       "      <td>181.0</td>\n",
       "      <td>3750.0</td>\n",
       "      <td>MALE</td>\n",
       "      <td>Adult, 1 Egg Stage</td>\n",
       "    </tr>\n",
       "    <tr>\n",
       "      <th>1</th>\n",
       "      <td>Adelie Penguin (Pygoscelis adeliae)</td>\n",
       "      <td>Torgersen</td>\n",
       "      <td>11/11/07</td>\n",
       "      <td>39.5</td>\n",
       "      <td>17.4</td>\n",
       "      <td>186.0</td>\n",
       "      <td>3800.0</td>\n",
       "      <td>FEMALE</td>\n",
       "      <td>Adult, 1 Egg Stage</td>\n",
       "    </tr>\n",
       "  </tbody>\n",
       "</table>\n",
       "</div>"
      ],
      "text/plain": [
       "                               Species     Island  Date Egg  Culmen Length (mm)  Culmen Depth (mm)  Flipper Length (mm)  Body Mass (g)     Sex               Stage\n",
       "0  Adelie Penguin (Pygoscelis adeliae)  Torgersen  11/11/07                39.1               18.7                181.0         3750.0    MALE  Adult, 1 Egg Stage\n",
       "1  Adelie Penguin (Pygoscelis adeliae)  Torgersen  11/11/07                39.5               17.4                186.0         3800.0  FEMALE  Adult, 1 Egg Stage"
      ]
     },
     "execution_count": 28,
     "metadata": {},
     "output_type": "execute_result"
    }
   ],
   "source": [
    "pgn_ext.head(2)"
   ]
  },
  {
   "cell_type": "code",
   "execution_count": 29,
   "id": "839f10b3",
   "metadata": {},
   "outputs": [
    {
     "data": {
      "text/plain": [
       "Species                 object\n",
       "Island                  object\n",
       "Date Egg                object\n",
       "Culmen Length (mm)     float64\n",
       "Culmen Depth (mm)      float64\n",
       "Flipper Length (mm)    float64\n",
       "Body Mass (g)          float64\n",
       "Sex                     object\n",
       "Stage                   object\n",
       "dtype: object"
      ]
     },
     "execution_count": 29,
     "metadata": {},
     "output_type": "execute_result"
    }
   ],
   "source": [
    "pgn_ext.dtypes"
   ]
  },
  {
   "cell_type": "code",
   "execution_count": 30,
   "id": "c400de5f",
   "metadata": {},
   "outputs": [],
   "source": [
    "#converting the data type of the date time column\n",
    "pgn_ext[\"Date Egg\"] = pgn_ext[\"Date Egg\"].astype('datetime64[ns]')"
   ]
  },
  {
   "cell_type": "code",
   "execution_count": 31,
   "id": "5d04c4ab",
   "metadata": {},
   "outputs": [
    {
     "data": {
      "text/plain": [
       "Species                        object\n",
       "Island                         object\n",
       "Date Egg               datetime64[ns]\n",
       "Culmen Length (mm)            float64\n",
       "Culmen Depth (mm)             float64\n",
       "Flipper Length (mm)           float64\n",
       "Body Mass (g)                 float64\n",
       "Sex                            object\n",
       "Stage                          object\n",
       "dtype: object"
      ]
     },
     "execution_count": 31,
     "metadata": {},
     "output_type": "execute_result"
    }
   ],
   "source": [
    "pgn_ext.dtypes"
   ]
  },
  {
   "cell_type": "code",
   "execution_count": 32,
   "id": "76e3e9f5",
   "metadata": {},
   "outputs": [
    {
     "data": {
      "text/plain": [
       "False    344\n",
       "dtype: int64"
      ]
     },
     "execution_count": 32,
     "metadata": {},
     "output_type": "execute_result"
    }
   ],
   "source": [
    "# checking for the duplicates in the columns\n",
    "pgn_ext.duplicated().value_counts()"
   ]
  },
  {
   "cell_type": "code",
   "execution_count": 33,
   "id": "51323af7",
   "metadata": {
    "scrolled": true
   },
   "outputs": [
    {
     "data": {
      "text/plain": [
       "Species                 0\n",
       "Island                  0\n",
       "Date Egg                0\n",
       "Culmen Length (mm)      2\n",
       "Culmen Depth (mm)       2\n",
       "Flipper Length (mm)     2\n",
       "Body Mass (g)           2\n",
       "Sex                    10\n",
       "Stage                   0\n",
       "dtype: int64"
      ]
     },
     "execution_count": 33,
     "metadata": {},
     "output_type": "execute_result"
    }
   ],
   "source": [
    "# looking out for the Null/NAn/None values in the dataset\n",
    "pgn_ext.isnull().sum()"
   ]
  },
  {
   "cell_type": "code",
   "execution_count": 34,
   "id": "1e1d3a39",
   "metadata": {},
   "outputs": [
    {
     "data": {
      "text/plain": [
       "<AxesSubplot: >"
      ]
     },
     "execution_count": 34,
     "metadata": {},
     "output_type": "execute_result"
    },
    {
     "data": {
      "image/png": "[encoded data removed]",
      "text/plain": [
       "<Figure size 640x480 with 2 Axes>"
      ]
     },
     "metadata": {},
     "output_type": "display_data"
    }
   ],
   "source": [
    "import seaborn as sns\n",
    "cols = pgn_ext.columns \n",
    "colours = ['k', 'b'] # specify the colours - blue is missing. black is not missing.\n",
    "sns.heatmap(pgn_ext[cols].isnull(),\n",
    "            cmap=sns.color_palette(colours))"
   ]
  },
  {
   "cell_type": "code",
   "execution_count": 35,
   "id": "5a623e5e",
   "metadata": {},
   "outputs": [
    {
     "data": {
      "text/plain": [
       "(344, 9)"
      ]
     },
     "execution_count": 35,
     "metadata": {},
     "output_type": "execute_result"
    }
   ],
   "source": [
    "pgn_ext.shape"
   ]
  },
  {
   "cell_type": "markdown",
   "id": "a0cad667",
   "metadata": {},
   "source": [
    "#### taking a look at the Sex nan columns"
   ]
  },
  {
   "cell_type": "code",
   "execution_count": 36,
   "id": "4885d23d",
   "metadata": {},
   "outputs": [],
   "source": [
    "age_null = pgn_ext.loc[pgn_ext[\"Sex\"].isnull(),:]"
   ]
  },
  {
   "cell_type": "code",
   "execution_count": 37,
   "id": "6ba0ac2a",
   "metadata": {},
   "outputs": [],
   "source": [
    "#droping the rows that have all rows and all column Nan values\n",
    "pgn_ext.dropna(how=\"all\",inplace =True)"
   ]
  },
  {
   "cell_type": "code",
   "execution_count": 38,
   "id": "0d5da934",
   "metadata": {},
   "outputs": [
    {
     "data": {
      "text/plain": [
       "(344, 9)"
      ]
     },
     "execution_count": 38,
     "metadata": {},
     "output_type": "execute_result"
    }
   ],
   "source": [
    "pgn_ext.shape"
   ]
  },
  {
   "cell_type": "code",
   "execution_count": 39,
   "id": "ded806ee",
   "metadata": {},
   "outputs": [
    {
     "data": {
      "text/html": [
       "<div>\n",
       "<style scoped>\n",
       "    .dataframe tbody tr th:only-of-type {\n",
       "        vertical-align: middle;\n",
       "    }\n",
       "\n",
       "    .dataframe tbody tr th {\n",
       "        vertical-align: top;\n",
       "    }\n",
       "\n",
       "    .dataframe thead th {\n",
       "        text-align: right;\n",
       "    }\n",
       "</style>\n",
       "<table border=\"1\" class=\"dataframe\">\n",
       "  <thead>\n",
       "    <tr style=\"text-align: right;\">\n",
       "      <th></th>\n",
       "      <th>Species</th>\n",
       "      <th>Island</th>\n",
       "      <th>Date Egg</th>\n",
       "      <th>Culmen Length (mm)</th>\n",
       "      <th>Culmen Depth (mm)</th>\n",
       "      <th>Flipper Length (mm)</th>\n",
       "      <th>Body Mass (g)</th>\n",
       "      <th>Sex</th>\n",
       "      <th>Stage</th>\n",
       "    </tr>\n",
       "  </thead>\n",
       "  <tbody>\n",
       "    <tr>\n",
       "      <th>3</th>\n",
       "      <td>Adelie Penguin (Pygoscelis adeliae)</td>\n",
       "      <td>Torgersen</td>\n",
       "      <td>2007-11-16</td>\n",
       "      <td>NaN</td>\n",
       "      <td>NaN</td>\n",
       "      <td>NaN</td>\n",
       "      <td>NaN</td>\n",
       "      <td>NaN</td>\n",
       "      <td>Adult, 1 Egg Stage</td>\n",
       "    </tr>\n",
       "    <tr>\n",
       "      <th>8</th>\n",
       "      <td>Adelie Penguin (Pygoscelis adeliae)</td>\n",
       "      <td>Torgersen</td>\n",
       "      <td>2007-11-09</td>\n",
       "      <td>34.1</td>\n",
       "      <td>18.1</td>\n",
       "      <td>193.0</td>\n",
       "      <td>3475.0</td>\n",
       "      <td>NaN</td>\n",
       "      <td>Adult, 1 Egg Stage</td>\n",
       "    </tr>\n",
       "    <tr>\n",
       "      <th>9</th>\n",
       "      <td>Adelie Penguin (Pygoscelis adeliae)</td>\n",
       "      <td>Torgersen</td>\n",
       "      <td>2007-11-09</td>\n",
       "      <td>42.0</td>\n",
       "      <td>20.2</td>\n",
       "      <td>190.0</td>\n",
       "      <td>4250.0</td>\n",
       "      <td>NaN</td>\n",
       "      <td>Adult, 1 Egg Stage</td>\n",
       "    </tr>\n",
       "    <tr>\n",
       "      <th>10</th>\n",
       "      <td>Adelie Penguin (Pygoscelis adeliae)</td>\n",
       "      <td>Torgersen</td>\n",
       "      <td>2007-11-09</td>\n",
       "      <td>37.8</td>\n",
       "      <td>17.1</td>\n",
       "      <td>186.0</td>\n",
       "      <td>3300.0</td>\n",
       "      <td>NaN</td>\n",
       "      <td>Adult, 1 Egg Stage</td>\n",
       "    </tr>\n",
       "    <tr>\n",
       "      <th>11</th>\n",
       "      <td>Adelie Penguin (Pygoscelis adeliae)</td>\n",
       "      <td>Torgersen</td>\n",
       "      <td>2007-11-09</td>\n",
       "      <td>37.8</td>\n",
       "      <td>17.3</td>\n",
       "      <td>180.0</td>\n",
       "      <td>3700.0</td>\n",
       "      <td>NaN</td>\n",
       "      <td>Adult, 1 Egg Stage</td>\n",
       "    </tr>\n",
       "    <tr>\n",
       "      <th>47</th>\n",
       "      <td>Adelie Penguin (Pygoscelis adeliae)</td>\n",
       "      <td>Dream</td>\n",
       "      <td>2007-11-13</td>\n",
       "      <td>37.5</td>\n",
       "      <td>18.9</td>\n",
       "      <td>179.0</td>\n",
       "      <td>2975.0</td>\n",
       "      <td>NaN</td>\n",
       "      <td>Adult, 1 Egg Stage</td>\n",
       "    </tr>\n",
       "    <tr>\n",
       "      <th>246</th>\n",
       "      <td>Gentoo penguin (Pygoscelis papua)</td>\n",
       "      <td>Biscoe</td>\n",
       "      <td>2007-11-29</td>\n",
       "      <td>44.5</td>\n",
       "      <td>14.3</td>\n",
       "      <td>216.0</td>\n",
       "      <td>4100.0</td>\n",
       "      <td>NaN</td>\n",
       "      <td>Adult, 1 Egg Stage</td>\n",
       "    </tr>\n",
       "    <tr>\n",
       "      <th>286</th>\n",
       "      <td>Gentoo penguin (Pygoscelis papua)</td>\n",
       "      <td>Biscoe</td>\n",
       "      <td>2008-11-09</td>\n",
       "      <td>46.2</td>\n",
       "      <td>14.4</td>\n",
       "      <td>214.0</td>\n",
       "      <td>4650.0</td>\n",
       "      <td>NaN</td>\n",
       "      <td>Adult, 1 Egg Stage</td>\n",
       "    </tr>\n",
       "    <tr>\n",
       "      <th>324</th>\n",
       "      <td>Gentoo penguin (Pygoscelis papua)</td>\n",
       "      <td>Biscoe</td>\n",
       "      <td>2009-12-01</td>\n",
       "      <td>47.3</td>\n",
       "      <td>13.8</td>\n",
       "      <td>216.0</td>\n",
       "      <td>4725.0</td>\n",
       "      <td>NaN</td>\n",
       "      <td>Adult, 1 Egg Stage</td>\n",
       "    </tr>\n",
       "    <tr>\n",
       "      <th>339</th>\n",
       "      <td>Gentoo penguin (Pygoscelis papua)</td>\n",
       "      <td>Biscoe</td>\n",
       "      <td>2009-12-01</td>\n",
       "      <td>NaN</td>\n",
       "      <td>NaN</td>\n",
       "      <td>NaN</td>\n",
       "      <td>NaN</td>\n",
       "      <td>NaN</td>\n",
       "      <td>Adult, 1 Egg Stage</td>\n",
       "    </tr>\n",
       "  </tbody>\n",
       "</table>\n",
       "</div>"
      ],
      "text/plain": [
       "                                 Species     Island   Date Egg  Culmen Length (mm)  Culmen Depth (mm)  Flipper Length (mm)  Body Mass (g)  Sex               Stage\n",
       "3    Adelie Penguin (Pygoscelis adeliae)  Torgersen 2007-11-16                 NaN                NaN                  NaN            NaN  NaN  Adult, 1 Egg Stage\n",
       "8    Adelie Penguin (Pygoscelis adeliae)  Torgersen 2007-11-09                34.1               18.1                193.0         3475.0  NaN  Adult, 1 Egg Stage\n",
       "9    Adelie Penguin (Pygoscelis adeliae)  Torgersen 2007-11-09                42.0               20.2                190.0         4250.0  NaN  Adult, 1 Egg Stage\n",
       "10   Adelie Penguin (Pygoscelis adeliae)  Torgersen 2007-11-09                37.8               17.1                186.0         3300.0  NaN  Adult, 1 Egg Stage\n",
       "11   Adelie Penguin (Pygoscelis adeliae)  Torgersen 2007-11-09                37.8               17.3                180.0         3700.0  NaN  Adult, 1 Egg Stage\n",
       "47   Adelie Penguin (Pygoscelis adeliae)      Dream 2007-11-13                37.5               18.9                179.0         2975.0  NaN  Adult, 1 Egg Stage\n",
       "246    Gentoo penguin (Pygoscelis papua)     Biscoe 2007-11-29                44.5               14.3                216.0         4100.0  NaN  Adult, 1 Egg Stage\n",
       "286    Gentoo penguin (Pygoscelis papua)     Biscoe 2008-11-09                46.2               14.4                214.0         4650.0  NaN  Adult, 1 Egg Stage\n",
       "324    Gentoo penguin (Pygoscelis papua)     Biscoe 2009-12-01                47.3               13.8                216.0         4725.0  NaN  Adult, 1 Egg Stage\n",
       "339    Gentoo penguin (Pygoscelis papua)     Biscoe 2009-12-01                 NaN                NaN                  NaN            NaN  NaN  Adult, 1 Egg Stage"
      ]
     },
     "execution_count": 39,
     "metadata": {},
     "output_type": "execute_result"
    }
   ],
   "source": [
    "age_null "
   ]
  },
  {
   "cell_type": "code",
   "execution_count": 40,
   "id": "1891584e",
   "metadata": {},
   "outputs": [
    {
     "data": {
      "text/plain": [
       "(344, 9)"
      ]
     },
     "execution_count": 40,
     "metadata": {},
     "output_type": "execute_result"
    }
   ],
   "source": [
    "pgn_ext.shape"
   ]
  },
  {
   "cell_type": "code",
   "execution_count": 41,
   "id": "e367c439",
   "metadata": {},
   "outputs": [],
   "source": [
    "pgn_ext.dropna(subset = \"Sex\",how = \"any\",axis = 0,inplace =True)"
   ]
  },
  {
   "cell_type": "code",
   "execution_count": 42,
   "id": "c8599319",
   "metadata": {},
   "outputs": [
    {
     "data": {
      "text/plain": [
       "(334, 9)"
      ]
     },
     "execution_count": 42,
     "metadata": {},
     "output_type": "execute_result"
    }
   ],
   "source": [
    "# change in Shape after droping out the rows of Sex Column that contains Null\n",
    "pgn_ext.shape"
   ]
  },
  {
   "cell_type": "code",
   "execution_count": 43,
   "id": "6ea3cff4",
   "metadata": {},
   "outputs": [
    {
     "data": {
      "text/plain": [
       "Species                0\n",
       "Island                 0\n",
       "Date Egg               0\n",
       "Culmen Length (mm)     0\n",
       "Culmen Depth (mm)      0\n",
       "Flipper Length (mm)    0\n",
       "Body Mass (g)          0\n",
       "Sex                    0\n",
       "Stage                  0\n",
       "dtype: int64"
      ]
     },
     "execution_count": 43,
     "metadata": {},
     "output_type": "execute_result"
    }
   ],
   "source": [
    "# relook to check for null\n",
    "pgn_ext.isnull().sum()"
   ]
  },
  {
   "cell_type": "markdown",
   "id": "0e5c171a",
   "metadata": {},
   "source": [
    "### The stage and Date Eggs seems less important for ML processing so droping out the columns"
   ]
  },
  {
   "cell_type": "code",
   "execution_count": 44,
   "id": "3e08e020",
   "metadata": {},
   "outputs": [],
   "source": [
    "pgn_ext.drop(\"Stage\",axis=1,inplace=True)"
   ]
  },
  {
   "cell_type": "code",
   "execution_count": 45,
   "id": "90b32ee8",
   "metadata": {},
   "outputs": [],
   "source": [
    "pgn_ext.drop(\"Date Egg\",axis=1,inplace=True)"
   ]
  },
  {
   "cell_type": "code",
   "execution_count": 46,
   "id": "baf6adcd",
   "metadata": {},
   "outputs": [
    {
     "data": {
      "text/html": [
       "<div>\n",
       "<style scoped>\n",
       "    .dataframe tbody tr th:only-of-type {\n",
       "        vertical-align: middle;\n",
       "    }\n",
       "\n",
       "    .dataframe tbody tr th {\n",
       "        vertical-align: top;\n",
       "    }\n",
       "\n",
       "    .dataframe thead th {\n",
       "        text-align: right;\n",
       "    }\n",
       "</style>\n",
       "<table border=\"1\" class=\"dataframe\">\n",
       "  <thead>\n",
       "    <tr style=\"text-align: right;\">\n",
       "      <th></th>\n",
       "      <th>Species</th>\n",
       "      <th>Island</th>\n",
       "      <th>Culmen Length (mm)</th>\n",
       "      <th>Culmen Depth (mm)</th>\n",
       "      <th>Flipper Length (mm)</th>\n",
       "      <th>Body Mass (g)</th>\n",
       "      <th>Sex</th>\n",
       "    </tr>\n",
       "  </thead>\n",
       "  <tbody>\n",
       "    <tr>\n",
       "      <th>0</th>\n",
       "      <td>Adelie Penguin (Pygoscelis adeliae)</td>\n",
       "      <td>Torgersen</td>\n",
       "      <td>39.1</td>\n",
       "      <td>18.7</td>\n",
       "      <td>181.0</td>\n",
       "      <td>3750.0</td>\n",
       "      <td>MALE</td>\n",
       "    </tr>\n",
       "    <tr>\n",
       "      <th>1</th>\n",
       "      <td>Adelie Penguin (Pygoscelis adeliae)</td>\n",
       "      <td>Torgersen</td>\n",
       "      <td>39.5</td>\n",
       "      <td>17.4</td>\n",
       "      <td>186.0</td>\n",
       "      <td>3800.0</td>\n",
       "      <td>FEMALE</td>\n",
       "    </tr>\n",
       "  </tbody>\n",
       "</table>\n",
       "</div>"
      ],
      "text/plain": [
       "                               Species     Island  Culmen Length (mm)  Culmen Depth (mm)  Flipper Length (mm)  Body Mass (g)     Sex\n",
       "0  Adelie Penguin (Pygoscelis adeliae)  Torgersen                39.1               18.7                181.0         3750.0    MALE\n",
       "1  Adelie Penguin (Pygoscelis adeliae)  Torgersen                39.5               17.4                186.0         3800.0  FEMALE"
      ]
     },
     "execution_count": 46,
     "metadata": {},
     "output_type": "execute_result"
    }
   ],
   "source": [
    "pgn_ext.head(2)"
   ]
  },
  {
   "cell_type": "code",
   "execution_count": 47,
   "id": "5ca09b82",
   "metadata": {},
   "outputs": [],
   "source": [
    "### encoding the columns required"
   ]
  },
  {
   "cell_type": "code",
   "execution_count": 48,
   "id": "5db093f9",
   "metadata": {},
   "outputs": [],
   "source": [
    "png_ext = pd.get_dummies(pgn_ext,columns=[\"Sex\",\"Island\"],drop_first = True)"
   ]
  },
  {
   "cell_type": "code",
   "execution_count": 49,
   "id": "6f6699b6",
   "metadata": {},
   "outputs": [
    {
     "data": {
      "text/html": [
       "<div>\n",
       "<style scoped>\n",
       "    .dataframe tbody tr th:only-of-type {\n",
       "        vertical-align: middle;\n",
       "    }\n",
       "\n",
       "    .dataframe tbody tr th {\n",
       "        vertical-align: top;\n",
       "    }\n",
       "\n",
       "    .dataframe thead th {\n",
       "        text-align: right;\n",
       "    }\n",
       "</style>\n",
       "<table border=\"1\" class=\"dataframe\">\n",
       "  <thead>\n",
       "    <tr style=\"text-align: right;\">\n",
       "      <th></th>\n",
       "      <th>Species</th>\n",
       "      <th>Culmen Length (mm)</th>\n",
       "      <th>Culmen Depth (mm)</th>\n",
       "      <th>Flipper Length (mm)</th>\n",
       "      <th>Body Mass (g)</th>\n",
       "      <th>Sex_FEMALE</th>\n",
       "      <th>Sex_MALE</th>\n",
       "      <th>Island_Dream</th>\n",
       "      <th>Island_Torgersen</th>\n",
       "    </tr>\n",
       "  </thead>\n",
       "  <tbody>\n",
       "    <tr>\n",
       "      <th>0</th>\n",
       "      <td>Adelie Penguin (Pygoscelis adeliae)</td>\n",
       "      <td>39.1</td>\n",
       "      <td>18.7</td>\n",
       "      <td>181.0</td>\n",
       "      <td>3750.0</td>\n",
       "      <td>0</td>\n",
       "      <td>1</td>\n",
       "      <td>0</td>\n",
       "      <td>1</td>\n",
       "    </tr>\n",
       "    <tr>\n",
       "      <th>1</th>\n",
       "      <td>Adelie Penguin (Pygoscelis adeliae)</td>\n",
       "      <td>39.5</td>\n",
       "      <td>17.4</td>\n",
       "      <td>186.0</td>\n",
       "      <td>3800.0</td>\n",
       "      <td>1</td>\n",
       "      <td>0</td>\n",
       "      <td>0</td>\n",
       "      <td>1</td>\n",
       "    </tr>\n",
       "    <tr>\n",
       "      <th>2</th>\n",
       "      <td>Adelie Penguin (Pygoscelis adeliae)</td>\n",
       "      <td>40.3</td>\n",
       "      <td>18.0</td>\n",
       "      <td>195.0</td>\n",
       "      <td>3250.0</td>\n",
       "      <td>1</td>\n",
       "      <td>0</td>\n",
       "      <td>0</td>\n",
       "      <td>1</td>\n",
       "    </tr>\n",
       "    <tr>\n",
       "      <th>4</th>\n",
       "      <td>Adelie Penguin (Pygoscelis adeliae)</td>\n",
       "      <td>36.7</td>\n",
       "      <td>19.3</td>\n",
       "      <td>193.0</td>\n",
       "      <td>3450.0</td>\n",
       "      <td>1</td>\n",
       "      <td>0</td>\n",
       "      <td>0</td>\n",
       "      <td>1</td>\n",
       "    </tr>\n",
       "    <tr>\n",
       "      <th>5</th>\n",
       "      <td>Adelie Penguin (Pygoscelis adeliae)</td>\n",
       "      <td>39.3</td>\n",
       "      <td>20.6</td>\n",
       "      <td>190.0</td>\n",
       "      <td>3650.0</td>\n",
       "      <td>0</td>\n",
       "      <td>1</td>\n",
       "      <td>0</td>\n",
       "      <td>1</td>\n",
       "    </tr>\n",
       "    <tr>\n",
       "      <th>...</th>\n",
       "      <td>...</td>\n",
       "      <td>...</td>\n",
       "      <td>...</td>\n",
       "      <td>...</td>\n",
       "      <td>...</td>\n",
       "      <td>...</td>\n",
       "      <td>...</td>\n",
       "      <td>...</td>\n",
       "      <td>...</td>\n",
       "    </tr>\n",
       "    <tr>\n",
       "      <th>338</th>\n",
       "      <td>Gentoo penguin (Pygoscelis papua)</td>\n",
       "      <td>47.2</td>\n",
       "      <td>13.7</td>\n",
       "      <td>214.0</td>\n",
       "      <td>4925.0</td>\n",
       "      <td>1</td>\n",
       "      <td>0</td>\n",
       "      <td>0</td>\n",
       "      <td>0</td>\n",
       "    </tr>\n",
       "    <tr>\n",
       "      <th>340</th>\n",
       "      <td>Gentoo penguin (Pygoscelis papua)</td>\n",
       "      <td>46.8</td>\n",
       "      <td>14.3</td>\n",
       "      <td>215.0</td>\n",
       "      <td>4850.0</td>\n",
       "      <td>1</td>\n",
       "      <td>0</td>\n",
       "      <td>0</td>\n",
       "      <td>0</td>\n",
       "    </tr>\n",
       "    <tr>\n",
       "      <th>341</th>\n",
       "      <td>Gentoo penguin (Pygoscelis papua)</td>\n",
       "      <td>50.4</td>\n",
       "      <td>15.7</td>\n",
       "      <td>222.0</td>\n",
       "      <td>5750.0</td>\n",
       "      <td>0</td>\n",
       "      <td>1</td>\n",
       "      <td>0</td>\n",
       "      <td>0</td>\n",
       "    </tr>\n",
       "    <tr>\n",
       "      <th>342</th>\n",
       "      <td>Gentoo penguin (Pygoscelis papua)</td>\n",
       "      <td>45.2</td>\n",
       "      <td>14.8</td>\n",
       "      <td>212.0</td>\n",
       "      <td>5200.0</td>\n",
       "      <td>1</td>\n",
       "      <td>0</td>\n",
       "      <td>0</td>\n",
       "      <td>0</td>\n",
       "    </tr>\n",
       "    <tr>\n",
       "      <th>343</th>\n",
       "      <td>Gentoo penguin (Pygoscelis papua)</td>\n",
       "      <td>49.9</td>\n",
       "      <td>16.1</td>\n",
       "      <td>213.0</td>\n",
       "      <td>5400.0</td>\n",
       "      <td>0</td>\n",
       "      <td>1</td>\n",
       "      <td>0</td>\n",
       "      <td>0</td>\n",
       "    </tr>\n",
       "  </tbody>\n",
       "</table>\n",
       "<p>334 rows × 9 columns</p>\n",
       "</div>"
      ],
      "text/plain": [
       "                                 Species  Culmen Length (mm)  Culmen Depth (mm)  Flipper Length (mm)  Body Mass (g)  Sex_FEMALE  Sex_MALE  Island_Dream  Island_Torgersen\n",
       "0    Adelie Penguin (Pygoscelis adeliae)                39.1               18.7                181.0         3750.0           0         1             0                 1\n",
       "1    Adelie Penguin (Pygoscelis adeliae)                39.5               17.4                186.0         3800.0           1         0             0                 1\n",
       "2    Adelie Penguin (Pygoscelis adeliae)                40.3               18.0                195.0         3250.0           1         0             0                 1\n",
       "4    Adelie Penguin (Pygoscelis adeliae)                36.7               19.3                193.0         3450.0           1         0             0                 1\n",
       "5    Adelie Penguin (Pygoscelis adeliae)                39.3               20.6                190.0         3650.0           0         1             0                 1\n",
       "..                                   ...                 ...                ...                  ...            ...         ...       ...           ...               ...\n",
       "338    Gentoo penguin (Pygoscelis papua)                47.2               13.7                214.0         4925.0           1         0             0                 0\n",
       "340    Gentoo penguin (Pygoscelis papua)                46.8               14.3                215.0         4850.0           1         0             0                 0\n",
       "341    Gentoo penguin (Pygoscelis papua)                50.4               15.7                222.0         5750.0           0         1             0                 0\n",
       "342    Gentoo penguin (Pygoscelis papua)                45.2               14.8                212.0         5200.0           1         0             0                 0\n",
       "343    Gentoo penguin (Pygoscelis papua)                49.9               16.1                213.0         5400.0           0         1             0                 0\n",
       "\n",
       "[334 rows x 9 columns]"
      ]
     },
     "execution_count": 49,
     "metadata": {},
     "output_type": "execute_result"
    }
   ],
   "source": [
    "png_ext"
   ]
  },
  {
   "cell_type": "code",
   "execution_count": 50,
   "id": "3060a61d",
   "metadata": {
    "scrolled": true
   },
   "outputs": [
    {
     "data": {
      "image/png": "[encoded data removed]",
      "text/plain": [
       "<Figure size 500x500 with 1 Axes>"
      ]
     },
     "metadata": {},
     "output_type": "display_data"
    }
   ],
   "source": [
    "# checking for outliers\n",
    "column = pgn_ext.loc[:,[\"Culmen Length (mm)\",\"Culmen Depth (mm)\",\"Flipper Length (mm)\"]]\n",
    "fig,ax=plt.subplots(1,1)\n",
    "fig.set_size_inches(5, 5)\n",
    "ax.boxplot(column)\n",
    "ax.set_xticklabels([\"Culmen Length\",\"Culmen Depth\"\n",
    "                     ,\"Flipper Length\"])\n",
    "ax.set_ylim(0,300)\n",
    "ax.set_xlabel('species features')\n",
    "ax.set_ylabel('mm')\n",
    "ax.set_title('ckecking outliers')\n",
    "plt.show()"
   ]
  },
  {
   "cell_type": "code",
   "execution_count": null,
   "id": "abe117ae",
   "metadata": {},
   "outputs": [],
   "source": []
  }
 ],
 "metadata": {
  "kernelspec": {
   "display_name": "Python 3 (ipykernel)",
   "language": "python",
   "name": "python3"
  },
  "language_info": {
   "codemirror_mode": {
    "name": "ipython",
    "version": 3
   },
   "file_extension": ".py",
   "mimetype": "text/x-python",
   "name": "python",
   "nbconvert_exporter": "python",
   "pygments_lexer": "ipython3",
   "version": "3.10.7"
  }
 },
 "nbformat": 4,
 "nbformat_minor": 5
}
